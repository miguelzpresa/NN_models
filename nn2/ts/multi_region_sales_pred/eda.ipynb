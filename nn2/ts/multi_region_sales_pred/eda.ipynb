{
 "cells": [
  {
   "cell_type": "code",
   "execution_count": 68,
   "metadata": {},
   "outputs": [],
   "source": [
    "import pandas as pd\n",
    "import matplotlib.pyplot as plt\n",
    "import datetime as dt\n"
   ]
  },
  {
   "cell_type": "code",
   "execution_count": null,
   "metadata": {},
   "outputs": [],
   "source": [
    "path = \"/home/sistemas/m/octavo/dataset/sales-ds.csv\"\n",
    "df = pd.read_csv(path, parse_dates=['Date'], dayfirst=True)#, index_col = \"Date\")\n"
   ]
  },
  {
   "cell_type": "code",
   "execution_count": 76,
   "metadata": {},
   "outputs": [
    {
     "data": {
      "application/vnd.microsoft.datawrangler.viewer.v0+json": {
       "columns": [
        {
         "name": "index",
         "rawType": "int64",
         "type": "integer"
        },
        {
         "name": "Store",
         "rawType": "int64",
         "type": "integer"
        },
        {
         "name": "Dept",
         "rawType": "int64",
         "type": "integer"
        },
        {
         "name": "Date",
         "rawType": "datetime64[ns]",
         "type": "datetime"
        },
        {
         "name": "Weekly_Sales",
         "rawType": "float64",
         "type": "float"
        },
        {
         "name": "IsHoliday",
         "rawType": "bool",
         "type": "boolean"
        }
       ],
       "conversionMethod": "pd.DataFrame",
       "ref": "91bf741d-db55-46b3-bfbf-d8710ccf95d0",
       "rows": [
        [
         "0",
         "1",
         "1",
         "2010-02-05 00:00:00",
         "24924.5",
         "False"
        ],
        [
         "16451",
         "2",
         "49",
         "2010-02-05 00:00:00",
         "15767.0",
         "False"
        ],
        [
         "278237",
         "29",
         "9",
         "2010-02-05 00:00:00",
         "4419.73",
         "False"
        ],
        [
         "278380",
         "29",
         "10",
         "2010-02-05 00:00:00",
         "7550.67",
         "False"
        ],
        [
         "278523",
         "29",
         "11",
         "2010-02-05 00:00:00",
         "6964.21",
         "False"
        ]
       ],
       "shape": {
        "columns": 5,
        "rows": 5
       }
      },
      "text/html": [
       "<div>\n",
       "<style scoped>\n",
       "    .dataframe tbody tr th:only-of-type {\n",
       "        vertical-align: middle;\n",
       "    }\n",
       "\n",
       "    .dataframe tbody tr th {\n",
       "        vertical-align: top;\n",
       "    }\n",
       "\n",
       "    .dataframe thead th {\n",
       "        text-align: right;\n",
       "    }\n",
       "</style>\n",
       "<table border=\"1\" class=\"dataframe\">\n",
       "  <thead>\n",
       "    <tr style=\"text-align: right;\">\n",
       "      <th></th>\n",
       "      <th>Store</th>\n",
       "      <th>Dept</th>\n",
       "      <th>Date</th>\n",
       "      <th>Weekly_Sales</th>\n",
       "      <th>IsHoliday</th>\n",
       "    </tr>\n",
       "  </thead>\n",
       "  <tbody>\n",
       "    <tr>\n",
       "      <th>0</th>\n",
       "      <td>1</td>\n",
       "      <td>1</td>\n",
       "      <td>2010-02-05</td>\n",
       "      <td>24924.50</td>\n",
       "      <td>False</td>\n",
       "    </tr>\n",
       "    <tr>\n",
       "      <th>16451</th>\n",
       "      <td>2</td>\n",
       "      <td>49</td>\n",
       "      <td>2010-02-05</td>\n",
       "      <td>15767.00</td>\n",
       "      <td>False</td>\n",
       "    </tr>\n",
       "    <tr>\n",
       "      <th>278237</th>\n",
       "      <td>29</td>\n",
       "      <td>9</td>\n",
       "      <td>2010-02-05</td>\n",
       "      <td>4419.73</td>\n",
       "      <td>False</td>\n",
       "    </tr>\n",
       "    <tr>\n",
       "      <th>278380</th>\n",
       "      <td>29</td>\n",
       "      <td>10</td>\n",
       "      <td>2010-02-05</td>\n",
       "      <td>7550.67</td>\n",
       "      <td>False</td>\n",
       "    </tr>\n",
       "    <tr>\n",
       "      <th>278523</th>\n",
       "      <td>29</td>\n",
       "      <td>11</td>\n",
       "      <td>2010-02-05</td>\n",
       "      <td>6964.21</td>\n",
       "      <td>False</td>\n",
       "    </tr>\n",
       "  </tbody>\n",
       "</table>\n",
       "</div>"
      ],
      "text/plain": [
       "        Store  Dept       Date  Weekly_Sales  IsHoliday\n",
       "0           1     1 2010-02-05      24924.50      False\n",
       "16451       2    49 2010-02-05      15767.00      False\n",
       "278237     29     9 2010-02-05       4419.73      False\n",
       "278380     29    10 2010-02-05       7550.67      False\n",
       "278523     29    11 2010-02-05       6964.21      False"
      ]
     },
     "execution_count": 76,
     "metadata": {},
     "output_type": "execute_result"
    }
   ],
   "source": [
    "df.sort_values(by='Date',ascending=True, inplace=True)\n",
    "df.head()"
   ]
  },
  {
   "cell_type": "code",
   "execution_count": 81,
   "metadata": {},
   "outputs": [
    {
     "data": {
      "application/vnd.microsoft.datawrangler.viewer.v0+json": {
       "columns": [
        {
         "name": "index",
         "rawType": "int64",
         "type": "integer"
        },
        {
         "name": "Store",
         "rawType": "int64",
         "type": "integer"
        },
        {
         "name": "Dept",
         "rawType": "int64",
         "type": "integer"
        },
        {
         "name": "Weekly_Sales",
         "rawType": "float64",
         "type": "float"
        }
       ],
       "conversionMethod": "pd.DataFrame",
       "ref": "5121b7b9-b00f-48c2-808b-f3911d72b3a9",
       "rows": [
        [
         "0",
         "1",
         "1",
         "3219405.18"
        ],
        [
         "1",
         "1",
         "2",
         "6592598.93"
        ],
        [
         "2",
         "1",
         "3",
         "1880518.36"
        ],
        [
         "3",
         "1",
         "4",
         "5285874.09"
        ],
        [
         "4",
         "1",
         "5",
         "3468885.58"
        ],
        [
         "5",
         "1",
         "6",
         "686654.56"
        ],
        [
         "6",
         "1",
         "7",
         "3513007.7"
        ],
        [
         "7",
         "1",
         "8",
         "5107710.84"
        ],
        [
         "8",
         "1",
         "9",
         "4012873.47"
        ],
        [
         "9",
         "1",
         "10",
         "4437774.25"
        ],
        [
         "10",
         "1",
         "11",
         "3563455.7"
        ],
        [
         "11",
         "1",
         "12",
         "1511015.98"
        ],
        [
         "12",
         "1",
         "13",
         "5533081.91"
        ],
        [
         "13",
         "1",
         "14",
         "2183402.78"
        ],
        [
         "14",
         "1",
         "16",
         "3453601.77"
        ],
        [
         "15",
         "1",
         "17",
         "1315107.78"
        ],
        [
         "16",
         "1",
         "18",
         "877479.4"
        ],
        [
         "17",
         "1",
         "19",
         "180039.65"
        ],
        [
         "18",
         "1",
         "20",
         "585094.73"
        ],
        [
         "19",
         "1",
         "21",
         "1116608.43"
        ],
        [
         "20",
         "1",
         "22",
         "1151446.89"
        ],
        [
         "21",
         "1",
         "23",
         "3092115.41"
        ],
        [
         "22",
         "1",
         "24",
         "884796.73"
        ],
        [
         "23",
         "1",
         "25",
         "1451784.16"
        ],
        [
         "24",
         "1",
         "26",
         "967823.61"
        ],
        [
         "25",
         "1",
         "27",
         "196574.9"
        ],
        [
         "26",
         "1",
         "28",
         "84815.3"
        ],
        [
         "27",
         "1",
         "29",
         "665098.75"
        ],
        [
         "28",
         "1",
         "30",
         "488387.19"
        ],
        [
         "29",
         "1",
         "31",
         "344420.26"
        ],
        [
         "30",
         "1",
         "32",
         "1172981.58"
        ],
        [
         "31",
         "1",
         "33",
         "850339.66"
        ],
        [
         "32",
         "1",
         "34",
         "1648908.93"
        ],
        [
         "33",
         "1",
         "35",
         "362609.52"
        ],
        [
         "34",
         "1",
         "36",
         "211097.11"
        ],
        [
         "35",
         "1",
         "37",
         "400470.8"
        ],
        [
         "36",
         "1",
         "38",
         "11436885.83"
        ],
        [
         "37",
         "1",
         "40",
         "8366988.51"
        ],
        [
         "38",
         "1",
         "41",
         "152262.06"
        ],
        [
         "39",
         "1",
         "42",
         "1135466.65"
        ],
        [
         "40",
         "1",
         "44",
         "696799.59"
        ],
        [
         "41",
         "1",
         "45",
         "1703.65"
        ],
        [
         "42",
         "1",
         "46",
         "2811807.55"
        ],
        [
         "43",
         "1",
         "47",
         "-2562.0"
        ],
        [
         "44",
         "1",
         "48",
         "114715.99"
        ],
        [
         "45",
         "1",
         "49",
         "1635624.17"
        ],
        [
         "46",
         "1",
         "51",
         "1079.52"
        ],
        [
         "47",
         "1",
         "52",
         "336827.83"
        ],
        [
         "48",
         "1",
         "54",
         "12092.5"
        ],
        [
         "49",
         "1",
         "55",
         "1832951.6"
        ]
       ],
       "shape": {
        "columns": 3,
        "rows": 3331
       }
      },
      "text/html": [
       "<div>\n",
       "<style scoped>\n",
       "    .dataframe tbody tr th:only-of-type {\n",
       "        vertical-align: middle;\n",
       "    }\n",
       "\n",
       "    .dataframe tbody tr th {\n",
       "        vertical-align: top;\n",
       "    }\n",
       "\n",
       "    .dataframe thead th {\n",
       "        text-align: right;\n",
       "    }\n",
       "</style>\n",
       "<table border=\"1\" class=\"dataframe\">\n",
       "  <thead>\n",
       "    <tr style=\"text-align: right;\">\n",
       "      <th></th>\n",
       "      <th>Store</th>\n",
       "      <th>Dept</th>\n",
       "      <th>Weekly_Sales</th>\n",
       "    </tr>\n",
       "  </thead>\n",
       "  <tbody>\n",
       "    <tr>\n",
       "      <th>0</th>\n",
       "      <td>1</td>\n",
       "      <td>1</td>\n",
       "      <td>3219405.18</td>\n",
       "    </tr>\n",
       "    <tr>\n",
       "      <th>1</th>\n",
       "      <td>1</td>\n",
       "      <td>2</td>\n",
       "      <td>6592598.93</td>\n",
       "    </tr>\n",
       "    <tr>\n",
       "      <th>2</th>\n",
       "      <td>1</td>\n",
       "      <td>3</td>\n",
       "      <td>1880518.36</td>\n",
       "    </tr>\n",
       "    <tr>\n",
       "      <th>3</th>\n",
       "      <td>1</td>\n",
       "      <td>4</td>\n",
       "      <td>5285874.09</td>\n",
       "    </tr>\n",
       "    <tr>\n",
       "      <th>4</th>\n",
       "      <td>1</td>\n",
       "      <td>5</td>\n",
       "      <td>3468885.58</td>\n",
       "    </tr>\n",
       "    <tr>\n",
       "      <th>...</th>\n",
       "      <td>...</td>\n",
       "      <td>...</td>\n",
       "      <td>...</td>\n",
       "    </tr>\n",
       "    <tr>\n",
       "      <th>3326</th>\n",
       "      <td>45</td>\n",
       "      <td>94</td>\n",
       "      <td>494496.46</td>\n",
       "    </tr>\n",
       "    <tr>\n",
       "      <th>3327</th>\n",
       "      <td>45</td>\n",
       "      <td>95</td>\n",
       "      <td>7564151.83</td>\n",
       "    </tr>\n",
       "    <tr>\n",
       "      <th>3328</th>\n",
       "      <td>45</td>\n",
       "      <td>96</td>\n",
       "      <td>5.94</td>\n",
       "    </tr>\n",
       "    <tr>\n",
       "      <th>3329</th>\n",
       "      <td>45</td>\n",
       "      <td>97</td>\n",
       "      <td>924775.55</td>\n",
       "    </tr>\n",
       "    <tr>\n",
       "      <th>3330</th>\n",
       "      <td>45</td>\n",
       "      <td>98</td>\n",
       "      <td>75767.27</td>\n",
       "    </tr>\n",
       "  </tbody>\n",
       "</table>\n",
       "<p>3331 rows × 3 columns</p>\n",
       "</div>"
      ],
      "text/plain": [
       "      Store  Dept  Weekly_Sales\n",
       "0         1     1    3219405.18\n",
       "1         1     2    6592598.93\n",
       "2         1     3    1880518.36\n",
       "3         1     4    5285874.09\n",
       "4         1     5    3468885.58\n",
       "...     ...   ...           ...\n",
       "3326     45    94     494496.46\n",
       "3327     45    95    7564151.83\n",
       "3328     45    96          5.94\n",
       "3329     45    97     924775.55\n",
       "3330     45    98      75767.27\n",
       "\n",
       "[3331 rows x 3 columns]"
      ]
     },
     "execution_count": 81,
     "metadata": {},
     "output_type": "execute_result"
    }
   ],
   "source": [
    "df_segme = df.groupby(['Store','Dept'])[\"Weekly_Sales\"].sum().reset_index()\n",
    "df_segme "
   ]
  },
  {
   "cell_type": "code",
   "execution_count": 73,
   "metadata": {},
   "outputs": [
    {
     "name": "stdout",
     "output_type": "stream",
     "text": [
      "<class 'pandas.core.frame.DataFrame'>\n",
      "RangeIndex: 421570 entries, 0 to 421569\n",
      "Data columns (total 5 columns):\n",
      " #   Column        Non-Null Count   Dtype         \n",
      "---  ------        --------------   -----         \n",
      " 0   Store         421570 non-null  int64         \n",
      " 1   Dept          421570 non-null  int64         \n",
      " 2   Date          421570 non-null  datetime64[ns]\n",
      " 3   Weekly_Sales  421570 non-null  float64       \n",
      " 4   IsHoliday     421570 non-null  bool          \n",
      "dtypes: bool(1), datetime64[ns](1), float64(1), int64(2)\n",
      "memory usage: 13.3 MB\n"
     ]
    }
   ],
   "source": [
    "df.info()"
   ]
  },
  {
   "cell_type": "code",
   "execution_count": null,
   "metadata": {},
   "outputs": [
    {
     "data": {
      "application/vnd.microsoft.datawrangler.viewer.v0+json": {
       "columns": [
        {
         "name": "('Dept', 'Weekly_Sales')",
         "rawType": "object",
         "type": "unknown"
        },
        {
         "name": "Store",
         "rawType": "int64",
         "type": "integer"
        },
        {
         "name": "IsHoliday",
         "rawType": "int64",
         "type": "integer"
        }
       ],
       "conversionMethod": "pd.DataFrame",
       "ref": "da512aa9-bede-406b-9ae0-707adeab1432",
       "rows": [
        [
         "(1, 711.11)",
         "33",
         "0"
        ],
        [
         "(1, 732.58)",
         "33",
         "0"
        ],
        [
         "(1, 765.0)",
         "33",
         "0"
        ],
        [
         "(1, 853.09)",
         "33",
         "0"
        ],
        [
         "(1, 912.81)",
         "33",
         "0"
        ]
       ],
       "shape": {
        "columns": 2,
        "rows": 5
       }
      },
      "text/html": [
       "<div>\n",
       "<style scoped>\n",
       "    .dataframe tbody tr th:only-of-type {\n",
       "        vertical-align: middle;\n",
       "    }\n",
       "\n",
       "    .dataframe tbody tr th {\n",
       "        vertical-align: top;\n",
       "    }\n",
       "\n",
       "    .dataframe thead th {\n",
       "        text-align: right;\n",
       "    }\n",
       "</style>\n",
       "<table border=\"1\" class=\"dataframe\">\n",
       "  <thead>\n",
       "    <tr style=\"text-align: right;\">\n",
       "      <th></th>\n",
       "      <th></th>\n",
       "      <th>Store</th>\n",
       "      <th>IsHoliday</th>\n",
       "    </tr>\n",
       "    <tr>\n",
       "      <th>Dept</th>\n",
       "      <th>Weekly_Sales</th>\n",
       "      <th></th>\n",
       "      <th></th>\n",
       "    </tr>\n",
       "  </thead>\n",
       "  <tbody>\n",
       "    <tr>\n",
       "      <th rowspan=\"5\" valign=\"top\">1</th>\n",
       "      <th>711.11</th>\n",
       "      <td>33</td>\n",
       "      <td>0</td>\n",
       "    </tr>\n",
       "    <tr>\n",
       "      <th>732.58</th>\n",
       "      <td>33</td>\n",
       "      <td>0</td>\n",
       "    </tr>\n",
       "    <tr>\n",
       "      <th>765.00</th>\n",
       "      <td>33</td>\n",
       "      <td>0</td>\n",
       "    </tr>\n",
       "    <tr>\n",
       "      <th>853.09</th>\n",
       "      <td>33</td>\n",
       "      <td>0</td>\n",
       "    </tr>\n",
       "    <tr>\n",
       "      <th>912.81</th>\n",
       "      <td>33</td>\n",
       "      <td>0</td>\n",
       "    </tr>\n",
       "  </tbody>\n",
       "</table>\n",
       "</div>"
      ],
      "text/plain": [
       "                   Store  IsHoliday\n",
       "Dept Weekly_Sales                  \n",
       "1    711.11           33          0\n",
       "     732.58           33          0\n",
       "     765.00           33          0\n",
       "     853.09           33          0\n",
       "     912.81           33          0"
      ]
     },
     "execution_count": 38,
     "metadata": {},
     "output_type": "execute_result"
    }
   ],
   "source": [
    "df..sort_values(by=\"Date\",inplace=True)\n",
    "\n",
    "df_organi = df.groupby(['Dept','Weekly_Sales']).sum()\n",
    "df_organi.head()"
   ]
  }
 ],
 "metadata": {
  "kernelspec": {
   "display_name": "diplo",
   "language": "python",
   "name": "python3"
  },
  "language_info": {
   "codemirror_mode": {
    "name": "ipython",
    "version": 3
   },
   "file_extension": ".py",
   "mimetype": "text/x-python",
   "name": "python",
   "nbconvert_exporter": "python",
   "pygments_lexer": "ipython3",
   "version": "3.9.18"
  }
 },
 "nbformat": 4,
 "nbformat_minor": 2
}
