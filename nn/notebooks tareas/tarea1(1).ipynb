{
  "cells": [
    {
      "cell_type": "code",
      "source": [
        "import torch"
      ],
      "metadata": {
        "id": "nQJ93yb4SWHm"
      },
      "execution_count": 1,
      "outputs": []
    },
    {
      "cell_type": "markdown",
      "source": [
        "![tics.png](data:image/png;base64,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)  \n",
        "\n",
        "Zamorano Presa Miguel Ángel"
      ],
      "metadata": {
        "id": "83O7p-rvO5Of"
      }
    },
    {
      "cell_type": "markdown",
      "metadata": {
        "id": "WcyjDtr0P_qK"
      },
      "source": [
        "# Tarea pytorch, parte A\n",
        "\n",
        "Recuerda que no se vale utilizar la palabra `for`.\n",
        "\n",
        "1. Encuentra la derivada de $x^2 + 2x + 5$ evaluada en $x = 1$ (con pytorch).\n",
        "2. ¿Para qué sirve squeeze y unsqueeze? ¿Qué recomiendo usar en vez de unsqueeze?\n",
        "3. Si tengo una matriz `A` de $8\\times 10$, ¿de qué tamaño será `A[1:6,-2:]`?\n",
        "4. Sea $A$ una matriz de $2\\times n$. Súmale 10 al primer renglón y 20 al segundo renglón. Escribe poquito.\n",
        "5. Crea una matriz de $n\\times m$ donde en la entrada $(i,j)$ esté el número $i+j$. No se vale usar la palabra `for`. Con `arange` e indizar.\n",
        "6. Dado dos tensores lineales de tamaño $n\\times 2$ y $m \\times 2$ respectivamente, crea una matriz de $n\\times m$ en donde la entrada $(i,j)$ sea la distancia euclideana entre el punto $i$ del primero tensor y el punto $j$ del segundo tensor. Igual, la palabra `for` está prohibida.\n",
        "7. Dado una matriz $A$ de $n\\times m$ y un vector de enteros $b$ donde todos los números de $b$ van del 0 a m, selecciona los números en las columnas correspondientes a $b$ y ponlos como $-1$. Por ejemplo, si\n",
        "\n",
        "$$A = \\begin{bmatrix}\n",
        "        0 & 1 & 2 & 3 \\\\\n",
        "        4 & 5 & 6 & 7 \\\\\n",
        "      \\end{bmatrix}$$\n",
        "y $b = [2, 0]$, entonces debe resultar en:\n",
        "\n",
        "$$A = \\begin{bmatrix}\n",
        "        0 & 1 & -1 & 3 \\\\\n",
        "        -1 & 5 & 6 & 7 \\\\\n",
        "      \\end{bmatrix}$$\n",
        "      \n",
        "8. (**difícil**) Implementa, sin usar `@` ni matmul, multiplicación de matrices. Se vale usar `*`, `+`, `sum` y broadcasting."
      ]
    },
    {
      "cell_type": "code",
      "source": [
        "#1\n",
        "def f(x):\n",
        "    return x**2 + 2*x + 5\n",
        "\n",
        "x = 1\n",
        "x = torch.tensor(x, requires_grad=True, dtype=torch.float16)\n",
        "y=f(x)\n",
        "y.backward()\n",
        "print(x.grad)\n"
      ],
      "metadata": {
        "colab": {
          "base_uri": "https://localhost:8080/"
        },
        "id": "k31dfbDXSSmz",
        "outputId": "b7635be4-06ef-42ee-a35c-d59ade577d81"
      },
      "execution_count": 68,
      "outputs": [
        {
          "output_type": "stream",
          "name": "stdout",
          "text": [
            "tensor(4., dtype=torch.float16)\n"
          ]
        }
      ]
    },
    {
      "cell_type": "markdown",
      "source": [
        "2. Squeeze elimina dimensiones de tamaño 1 tamientras que unsqueze las agrega y ambas tienen sus metodos respectivos el normal qu ehace una copia del tensor y el inplaace con _,el profe recomienda el uso de una sintaxis utilizando None en la posición donde desees agregar la dimensión del estilo A[:,None]"
      ],
      "metadata": {
        "id": "P3-jOPUkEu4S"
      }
    },
    {
      "cell_type": "code",
      "source": [
        "\"\"\"\n",
        "3. Si tengo una matriz A de 8×10, ¿de qué tamaño será A[1:6,-2:]?\n",
        "\"\"\"\n",
        "A=torch.ones(8,10)\n",
        "A[1:6,-2:].shape"
      ],
      "metadata": {
        "colab": {
          "base_uri": "https://localhost:8080/"
        },
        "id": "-SMDHoRlWHBb",
        "outputId": "544784bb-f1bf-4647-8941-c232a1e8ca2f"
      },
      "execution_count": 61,
      "outputs": [
        {
          "output_type": "execute_result",
          "data": {
            "text/plain": [
              "torch.Size([5, 2])"
            ]
          },
          "metadata": {},
          "execution_count": 61
        }
      ]
    },
    {
      "cell_type": "code",
      "source": [
        "\"\"\"\n",
        "4. Sea 𝐴 una matriz de 2×𝑛. Súmale 10 al primer renglón y 20 al segundo renglón.\n",
        "\"\"\"\n",
        "n =3 #arbitrario\n",
        "A = torch.rand(2, n)\n",
        "A[0] += 10\n",
        "A[1] += 20\n",
        "A"
      ],
      "metadata": {
        "colab": {
          "base_uri": "https://localhost:8080/"
        },
        "id": "iOgRL-CEIvzj",
        "outputId": "e80e32e3-e457-41df-f022-f1dbe5193a81"
      },
      "execution_count": 62,
      "outputs": [
        {
          "output_type": "execute_result",
          "data": {
            "text/plain": [
              "tensor([[10.5609, 10.4801, 10.3104],\n",
              "        [20.8912, 20.7639, 20.3635]])"
            ]
          },
          "metadata": {},
          "execution_count": 62
        }
      ]
    },
    {
      "cell_type": "code",
      "source": [
        "\"\"\"\n",
        "5. Crea una matriz de 𝑛×𝑚 donde en la entrada (𝑖,𝑗) esté el número 𝑖+𝑗. No se vale usar la palabra for. Con arange e indizar.\n",
        "\"\"\"\n",
        "#elejimos valores para nuestras variables\n",
        "n = 5\n",
        "m = 3\n",
        "\n",
        "\n",
        "A = torch.arange(n)\n",
        "B = torch.arange(m)\n",
        "A=A[:,None]\n",
        "\n",
        "print(A.shape)\n",
        "print(B.shape)\n",
        "result_matrix = A+B\n",
        "print(result_matrix)\n",
        "print(result_matrix.shape)\n",
        "\n"
      ],
      "metadata": {
        "colab": {
          "base_uri": "https://localhost:8080/"
        },
        "id": "P-dGUXlpOe0u",
        "outputId": "16f172d2-d7df-4ff7-e3dc-cf946310188b"
      },
      "execution_count": 63,
      "outputs": [
        {
          "output_type": "stream",
          "name": "stdout",
          "text": [
            "torch.Size([5, 1])\n",
            "torch.Size([3])\n",
            "tensor([[0, 1, 2],\n",
            "        [1, 2, 3],\n",
            "        [2, 3, 4],\n",
            "        [3, 4, 5],\n",
            "        [4, 5, 6]])\n",
            "torch.Size([5, 3])\n"
          ]
        }
      ]
    },
    {
      "cell_type": "code",
      "source": [
        "\"\"\"\n",
        "6. Dado dos tensores lineales de tamaño 𝑛×2 y 𝑚×2 respectivamente, crea una matriz de 𝑛×𝑚 en donde la entrada (𝑖,𝑗) sea la distancia euclideana entre el punto 𝑖 del primero tensor y el punto 𝑗 del segundo tensor. Igual, la palabra for está prohibida.\n",
        "\"\"\"\n",
        "n = 2\n",
        "m = 2\n",
        "\n",
        "B = torch.rand(n, 2)\n",
        "C = torch.rand(m, 2)\n",
        "print(B)\n",
        "print(C)\n",
        "C = C[:,None]\n",
        "print(\"-------\")\n",
        "print(C)\n",
        "dif_p_p = (B - C) ** 2\n",
        "print(dif_p_p)\n",
        "print(\"matriz de distancias: \")\n",
        "dist = torch.sqrt(torch.sum(dif_p_p,dim=2 ))\n",
        "\n",
        "print(dist)"
      ],
      "metadata": {
        "colab": {
          "base_uri": "https://localhost:8080/"
        },
        "id": "m25m6USQUAHk",
        "outputId": "d24f1ed9-afcb-4371-9298-83ebec2b8850"
      },
      "execution_count": 64,
      "outputs": [
        {
          "output_type": "stream",
          "name": "stdout",
          "text": [
            "tensor([[0.4578, 0.3454],\n",
            "        [0.8063, 0.7496]])\n",
            "tensor([[0.6742, 0.6931],\n",
            "        [0.7719, 0.0695]])\n",
            "-------\n",
            "tensor([[[0.6742, 0.6931]],\n",
            "\n",
            "        [[0.7719, 0.0695]]])\n",
            "tensor([[[0.0468, 0.1209],\n",
            "         [0.0175, 0.0032]],\n",
            "\n",
            "        [[0.0987, 0.0761],\n",
            "         [0.0012, 0.4624]]])\n",
            "matriz de distancias: \n",
            "tensor([[0.4096, 0.1437],\n",
            "        [0.4180, 0.6809]])\n"
          ]
        }
      ]
    },
    {
      "cell_type": "code",
      "source": [
        "def mul(A, B):\n",
        "\n",
        "    mul = A[:, None] * B.T #multi por broadcasting\n",
        "    result = torch.sum(mul, dim=2) #de modo que cada i,j es la suma de sus respectivos\n",
        "\n",
        "    return result\n",
        "\n",
        "# Ejemplo\n",
        "A =torch.randint(1,9,(2,2))\n",
        "B =torch.randint(1,9,(2,2))\n",
        "print(A)\n",
        "print(B)\n",
        "print(B.T)\n",
        "print()\n",
        "\n",
        "result = mul(A, B)\n",
        "print(result)"
      ],
      "metadata": {
        "colab": {
          "base_uri": "https://localhost:8080/"
        },
        "id": "QCiWtGP5atnd",
        "outputId": "52ecd72d-f27b-42f6-be6c-e6ed9cd67324"
      },
      "execution_count": 65,
      "outputs": [
        {
          "output_type": "stream",
          "name": "stdout",
          "text": [
            "tensor([[4, 3],\n",
            "        [8, 2]])\n",
            "tensor([[5, 8],\n",
            "        [6, 7]])\n",
            "tensor([[5, 6],\n",
            "        [8, 7]])\n",
            "\n",
            "tensor([[38, 53],\n",
            "        [52, 78]])\n"
          ]
        }
      ]
    }
  ],
  "metadata": {
    "kernelspec": {
      "display_name": "Python 3 (ipykernel)",
      "language": "python",
      "name": "python3"
    },
    "language_info": {
      "codemirror_mode": {
        "name": "ipython",
        "version": 3
      },
      "file_extension": ".py",
      "mimetype": "text/x-python",
      "name": "python",
      "nbconvert_exporter": "python",
      "pygments_lexer": "ipython3",
      "version": "3.9.6"
    },
    "colab": {
      "provenance": []
    }
  },
  "nbformat": 4,
  "nbformat_minor": 0
}