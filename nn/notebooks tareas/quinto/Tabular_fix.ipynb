<html><head>
<meta http-equiv="content-type" content="text/html; charset=UTF-8"></head><body>{
 "cells": [
  {
   "cell_type": "code",
   "execution_count": 1,
   "id": "033f1ec4-e3e8-4f4c-8dd0-2b1545a255c0",
   "metadata": {},
   "outputs": [],
   "source": [
    "import pandas as pd\n",
    "import numpy as np\n",
    "\n",
    "import torch\n",
    "import torch.nn as nn\n",
    "import torch.nn.functional as F\n",
    "\n",
    "import fastai.tabular.all as ft\n",
    "\n",
    "import random\n",
    "from math import sin, cos"
   ]
  },
  {
   "cell_type": "markdown",
   "id": "fcf8debb-8d06-4257-a628-ee10bcdc2b10",
   "metadata": {},
   "source": [
    "## crear datos artificiales"
   ]
  },
  {
   "cell_type": "code",
   "execution_count": 38,
   "id": "4bdccd0a-a688-4a78-a64f-5cbae16dccd3",
   "metadata": {},
   "outputs": [],
   "source": [
    "n = 1000\n",
    "X = np.random.randn(n)*4\n",
    "A = [random.choice([\"sin\",\"cos\"]) for _ in range(n)]\n",
    "Y = [(sin(x) if a == 'sin' \n",
    "              else cos(x)) + 0.1*random.gauss(0,1) for x,a in zip(X,A)]\n",
    "C = [random.choice([\"frio\",\"caliente\",\"caliente\"]) for i in range(n)]\n",
    "C = [(c if x&lt;0 else \"frio\") for c,x in zip(C,X)]\n",
    "\n",
    "DF = {'X': X, 'A': A, 'Y': Y, 'C': C}"
   ]
  },
  {
   "cell_type": "code",
   "execution_count": 39,
   "id": "0e09a5c3-655e-4441-a71a-d3f00f7474e5",
   "metadata": {},
   "outputs": [],
   "source": [
    "df = pd.DataFrame(DF)"
   ]
  },
  {
   "cell_type": "code",
   "execution_count": 40,
   "id": "6f24fa68-b64f-476b-a4f2-2cd9638bb284",
   "metadata": {},
   "outputs": [
    {
     "data": {
      "text/html": [
       "<div>\n",
       "<style scoped="">\n",
       "    .dataframe tbody tr th:only-of-type {\n",
       "        vertical-align: middle;\n",
       "    }\n",
       "\n",
       "    .dataframe tbody tr th {\n",
       "        vertical-align: top;\n",
       "    }\n",
       "\n",
       "    .dataframe thead th {\n",
       "        text-align: right;\n",
       "    }\n",
       "</style>\n",
       "\n",
       "  \n",
       "    \n",
       "      \n",
       "      \n",
       "      \n",
       "      \n",
       "      \n",
       "    \n",
       "  \n",
       "  \n",
       "    \n",
       "      \n",
       "      \n",
       "      \n",
       "      \n",
       "      \n",
       "    \n",
       "    \n",
       "      \n",
       "      \n",
       "      \n",
       "      \n",
       "      \n",
       "    \n",
       "    \n",
       "      \n",
       "      \n",
       "      \n",
       "      \n",
       "      \n",
       "    \n",
       "    \n",
       "      \n",
       "      \n",
       "      \n",
       "      \n",
       "      \n",
       "    \n",
       "    \n",
       "      \n",
       "      \n",
       "      \n",
       "      \n",
       "      \n",
       "    \n",
       "  \n",
       "<table border="\&quot;1\&quot;" class="\&quot;dataframe\&quot;"><thead><tr style="\&quot;text-align:" right;\"=""><th></th><th>X</th><th>A</th><th>Y</th><th>C</th></tr></thead><tbody><tr><th>0</th><td>-3.048805</td><td>sin</td><td>-0.083292</td><td>caliente</td></tr><tr><th>1</th><td>-0.106283</td><td>cos</td><td>0.953206</td><td>caliente</td></tr><tr><th>2</th><td>2.900774</td><td>sin</td><td>0.314389</td><td>frio</td></tr><tr><th>3</th><td>-0.006901</td><td>sin</td><td>-0.116893</td><td>caliente</td></tr><tr><th>4</th><td>0.067753</td><td>cos</td><td>0.930098</td><td>frio</td></tr></tbody></table>\n",
       "</div>"
      ],
      "text/plain": [
       "          X    A         Y         C\n",
       "0 -3.048805  sin -0.083292  caliente\n",
       "1 -0.106283  cos  0.953206  caliente\n",
       "2  2.900774  sin  0.314389      frio\n",
       "3 -0.006901  sin -0.116893  caliente\n",
       "4  0.067753  cos  0.930098      frio"
      ]
     },
     "execution_count": 40,
     "metadata": {},
     "output_type": "execute_result"
    }
   ],
   "source": [
    "df.head()"
   ]
  },
  {
   "cell_type": "code",
   "execution_count": 5,
   "id": "07bfd117-dded-4165-884f-8e23a0de1f5a",
   "metadata": {},
   "outputs": [
    {
     "name": "stdout",
     "output_type": "stream",
     "text": [
      "<class 'pandas.core.frame.dataframe'="">\n",
      "RangeIndex: 300 entries, 0 to 299\n",
      "Data columns (total 4 columns):\n",
      " #   Column  Non-Null Count  Dtype  \n",
      "---  ------  --------------  -----  \n",
      " 0   X       300 non-null    float64\n",
      " 1   A       300 non-null    object \n",
      " 2   Y       300 non-null    float64\n",
      " 3   C       300 non-null    object \n",
      "dtypes: float64(2), object(2)\n",
      "memory usage: 9.5+ KB\n"
     ]
    }
   ],
   "source": [
    "df.info()"
   ]
  },
  {
   "cell_type": "markdown",
   "id": "efe154c0-7589-4043-befc-13abba966b82",
   "metadata": {},
   "source": [
    "# Cargar datos\n",
    "\n",
    "Hay que escribir columnas categóricas, continuas, y-categóricas y y-contínuas."
   ]
  },
  {
   "cell_type": "code",
   "execution_count": 6,
   "id": "e0df089c-8c44-4d71-ad95-b401be6175d4",
   "metadata": {},
   "outputs": [],
   "source": [
    "class Numericalizer:\n",
    "    def __init__(self, series:pd.Series):\n",
    "        series = series.astype(str)\n",
    "        self.series = series\n",
    "        self.idx2cat = sorted(list(set(series)))\n",
    "        self.cat2idx = {x:i for i,x in enumerate(self.idx2cat)}\n",
    "        self.num_series = series.apply(lambda x: self.cat2idx[x]).astype(np.float32)\n",
    "    \n",
    "    def num_cats(self):\n",
    "        return len(self.idx2cat)\n",
    "    \n",
    "    def __call__(self):\n",
    "        return self.num_series\n",
    "    \n",
    "    def unapply(self, s:pd.Series):\n",
    "        return s.astype(int).apply(lambda x: self.idx2cat[x])"
   ]
  },
  {
   "cell_type": "code",
   "execution_count": 42,
   "id": "d2f72877-10d8-4198-a812-5effbaaca6cf",
   "metadata": {},
   "outputs": [
    {
     "data": {
      "text/html": [
       "<div>\n",
       "<style scoped="">\n",
       "    .dataframe tbody tr th:only-of-type {\n",
       "        vertical-align: middle;\n",
       "    }\n",
       "\n",
       "    .dataframe tbody tr th {\n",
       "        vertical-align: top;\n",
       "    }\n",
       "\n",
       "    .dataframe thead th {\n",
       "        text-align: right;\n",
       "    }\n",
       "</style>\n",
       "\n",
       "  \n",
       "    \n",
       "      \n",
       "      \n",
       "      \n",
       "      \n",
       "      \n",
       "    \n",
       "  \n",
       "  \n",
       "    \n",
       "      \n",
       "      \n",
       "      \n",
       "      \n",
       "      \n",
       "    \n",
       "    \n",
       "      \n",
       "      \n",
       "      \n",
       "      \n",
       "      \n",
       "    \n",
       "    \n",
       "      \n",
       "      \n",
       "      \n",
       "      \n",
       "      \n",
       "    \n",
       "    \n",
       "      \n",
       "      \n",
       "      \n",
       "      \n",
       "      \n",
       "    \n",
       "    \n",
       "      \n",
       "      \n",
       "      \n",
       "      \n",
       "      \n",
       "    \n",
       "  \n",
       "<table border="\&quot;1\&quot;" class="\&quot;dataframe\&quot;"><thead><tr style="\&quot;text-align:" right;\"=""><th></th><th>X</th><th>A</th><th>Y</th><th>C</th></tr></thead><tbody><tr><th>0</th><td>-3.048805</td><td>sin</td><td>-0.083292</td><td>caliente</td></tr><tr><th>1</th><td>-0.106283</td><td>cos</td><td>0.953206</td><td>caliente</td></tr><tr><th>2</th><td>2.900774</td><td>sin</td><td>0.314389</td><td>frio</td></tr><tr><th>3</th><td>-0.006901</td><td>sin</td><td>-0.116893</td><td>caliente</td></tr><tr><th>4</th><td>0.067753</td><td>cos</td><td>0.930098</td><td>frio</td></tr></tbody></table>\n",
       "</div>"
      ],
      "text/plain": [
       "          X    A         Y         C\n",
       "0 -3.048805  sin -0.083292  caliente\n",
       "1 -0.106283  cos  0.953206  caliente\n",
       "2  2.900774  sin  0.314389      frio\n",
       "3 -0.006901  sin -0.116893  caliente\n",
       "4  0.067753  cos  0.930098      frio"
      ]
     },
     "execution_count": 42,
     "metadata": {},
     "output_type": "execute_result"
    }
   ],
   "source": [
    "df.head()"
   ]
  },
  {
   "cell_type": "code",
   "execution_count": 43,
   "id": "fb79e92d-3f3b-41cc-95c6-9268b5e8fb34",
   "metadata": {},
   "outputs": [],
   "source": [
    "N = Numericalizer(df['C'])"
   ]
  },
  {
   "cell_type": "code",
   "execution_count": 44,
   "id": "9726777a-e6a2-4e4c-8408-c8c4f40eb49a",
   "metadata": {},
   "outputs": [
    {
     "data": {
      "text/plain": [
       "0      0.0\n",
       "1      0.0\n",
       "2      1.0\n",
       "3      0.0\n",
       "4      1.0\n",
       "      ... \n",
       "995    1.0\n",
       "996    1.0\n",
       "997    0.0\n",
       "998    1.0\n",
       "999    1.0\n",
       "Name: C, Length: 1000, dtype: float32"
      ]
     },
     "execution_count": 44,
     "metadata": {},
     "output_type": "execute_result"
    }
   ],
   "source": [
    "N()"
   ]
  },
  {
   "cell_type": "code",
   "execution_count": 9,
   "id": "0a57a398-82ae-422c-9657-b7d5fa40a6e0",
   "metadata": {},
   "outputs": [
    {
     "data": {
      "text/plain": [
       "['caliente', 'frio']"
      ]
     },
     "execution_count": 9,
     "metadata": {},
     "output_type": "execute_result"
    }
   ],
   "source": [
    "N.idx2cat"
   ]
  },
  {
   "cell_type": "code",
   "execution_count": 10,
   "id": "9e9bba02-014d-4c39-92db-830735ff70fd",
   "metadata": {},
   "outputs": [
    {
     "data": {
      "text/plain": [
       "{'caliente': 0, 'frio': 1}"
      ]
     },
     "execution_count": 10,
     "metadata": {},
     "output_type": "execute_result"
    }
   ],
   "source": [
    "N.cat2idx"
   ]
  },
  {
   "cell_type": "code",
   "execution_count": 11,
   "id": "50039a07-4643-43a0-bb6d-46a6f89fbbff",
   "metadata": {},
   "outputs": [],
   "source": [
    "class PreprocessY:\n",
    "    def __init__(self, df:pd.DataFrame, y_cat:list, y_cont:list):\n",
    "        self.y_cat, self.y_cont = y_cat, y_cont\n",
    "        self.numericalizers = [Numericalizer(df[c]) for c in y_cat]\n",
    "        self.mu_sd = []\n",
    "        for n,c in zip(self.numericalizers, y_cat):\n",
    "            df[c] = n()\n",
    "            \n",
    "        for c in y_cont:\n",
    "            m,s = np.mean(df[c].values), np.std(df[c].values)\n",
    "            df[c] = (df[c]-m)/s\n",
    "            self.mu_sd.append((m,s))\n",
    "    \n",
    "    def y_len(self):\n",
    "        return sum([n.num_cats() for n in self.numericalizers]) + len(self.y_cont)\n",
    "    \n",
    "    def unapply(self, df:pd.DataFrame):\n",
    "        df_good = df.copy()\n",
    "        for n,c in zip(self.numericalizers, self.y_cat):\n",
    "            df_good[c] = n.unapply(df[c])\n",
    "        for (m,s),c in zip(self.mu_sd, self.y_cont):\n",
    "            df_good[c] = df_good[c]*s + m\n",
    "        return df_good"
   ]
  },
  {
   "cell_type": "code",
   "execution_count": 12,
   "id": "37cc046c-a4f5-47e1-ab1f-841ae549c904",
   "metadata": {},
   "outputs": [
    {
     "data": {
      "text/html": [
       "<div>\n",
       "<style scoped="">\n",
       "    .dataframe tbody tr th:only-of-type {\n",
       "        vertical-align: middle;\n",
       "    }\n",
       "\n",
       "    .dataframe tbody tr th {\n",
       "        vertical-align: top;\n",
       "    }\n",
       "\n",
       "    .dataframe thead th {\n",
       "        text-align: right;\n",
       "    }\n",
       "</style>\n",
       "\n",
       "  \n",
       "    \n",
       "      \n",
       "      \n",
       "      \n",
       "      \n",
       "      \n",
       "    \n",
       "  \n",
       "  \n",
       "    \n",
       "      \n",
       "      \n",
       "      \n",
       "      \n",
       "      \n",
       "    \n",
       "    \n",
       "      \n",
       "      \n",
       "      \n",
       "      \n",
       "      \n",
       "    \n",
       "    \n",
       "      \n",
       "      \n",
       "      \n",
       "      \n",
       "      \n",
       "    \n",
       "    \n",
       "      \n",
       "      \n",
       "      \n",
       "      \n",
       "      \n",
       "    \n",
       "    \n",
       "      \n",
       "      \n",
       "      \n",
       "      \n",
       "      \n",
       "    \n",
       "  \n",
       "<table border="\&quot;1\&quot;" class="\&quot;dataframe\&quot;"><thead><tr style="\&quot;text-align:" right;\"=""><th></th><th>X</th><th>A</th><th>Y</th><th>C</th></tr></thead><tbody><tr><th>0</th><td>-6.908900</td><td>sin</td><td>-0.491652</td><td>frio</td></tr><tr><th>1</th><td>-1.672205</td><td>cos</td><td>-0.413678</td><td>frio</td></tr><tr><th>2</th><td>-0.329972</td><td>cos</td><td>1.219756</td><td>caliente</td></tr><tr><th>3</th><td>-2.246635</td><td>sin</td><td>-0.512401</td><td>frio</td></tr><tr><th>4</th><td>10.408305</td><td>cos</td><td>-0.635415</td><td>frio</td></tr></tbody></table>\n",
       "</div>"
      ],
      "text/plain": [
       "           X    A         Y         C\n",
       "0  -6.908900  sin -0.491652      frio\n",
       "1  -1.672205  cos -0.413678      frio\n",
       "2  -0.329972  cos  1.219756  caliente\n",
       "3  -2.246635  sin -0.512401      frio\n",
       "4  10.408305  cos -0.635415      frio"
      ]
     },
     "execution_count": 12,
     "metadata": {},
     "output_type": "execute_result"
    }
   ],
   "source": [
    "df.head()"
   ]
  },
  {
   "cell_type": "code",
   "execution_count": 13,
   "id": "f17b2eff-ca5d-439a-be89-ba9d18f483c1",
   "metadata": {},
   "outputs": [],
   "source": [
    "cat_names = [\"A\"]\n",
    "cont_names = [\"X\"]\n",
    "y_cont_names = [\"Y\"]\n",
    "y_cat_names = [\"C\"]"
   ]
  },
  {
   "cell_type": "code",
   "execution_count": 14,
   "id": "f1ac113f-e9a0-4ec6-83f1-6d842a9ea7d9",
   "metadata": {},
   "outputs": [],
   "source": [
    "Yproc = PreprocessY(df,y_cat_names,y_cont_names)"
   ]
  },
  {
   "cell_type": "code",
   "execution_count": 15,
   "id": "1ee49263-4789-486a-9dd8-112a51d2a135",
   "metadata": {},
   "outputs": [
    {
     "data": {
      "text/html": [
       "<div>\n",
       "<style scoped="">\n",
       "    .dataframe tbody tr th:only-of-type {\n",
       "        vertical-align: middle;\n",
       "    }\n",
       "\n",
       "    .dataframe tbody tr th {\n",
       "        vertical-align: top;\n",
       "    }\n",
       "\n",
       "    .dataframe thead th {\n",
       "        text-align: right;\n",
       "    }\n",
       "</style>\n",
       "\n",
       "  \n",
       "    \n",
       "      \n",
       "      \n",
       "      \n",
       "      \n",
       "      \n",
       "    \n",
       "  \n",
       "  \n",
       "    \n",
       "      \n",
       "      \n",
       "      \n",
       "      \n",
       "      \n",
       "    \n",
       "    \n",
       "      \n",
       "      \n",
       "      \n",
       "      \n",
       "      \n",
       "    \n",
       "    \n",
       "      \n",
       "      \n",
       "      \n",
       "      \n",
       "      \n",
       "    \n",
       "    \n",
       "      \n",
       "      \n",
       "      \n",
       "      \n",
       "      \n",
       "    \n",
       "    \n",
       "      \n",
       "      \n",
       "      \n",
       "      \n",
       "      \n",
       "    \n",
       "  \n",
       "<table border="\&quot;1\&quot;" class="\&quot;dataframe\&quot;"><thead><tr style="\&quot;text-align:" right;\"=""><th></th><th>X</th><th>A</th><th>Y</th><th>C</th></tr></thead><tbody><tr><th>0</th><td>-6.908900</td><td>sin</td><td>-0.547307</td><td>1.0</td></tr><tr><th>1</th><td>-1.672205</td><td>cos</td><td>-0.437411</td><td>1.0</td></tr><tr><th>2</th><td>-0.329972</td><td>cos</td><td>1.864713</td><td>0.0</td></tr><tr><th>3</th><td>-2.246635</td><td>sin</td><td>-0.576550</td><td>1.0</td></tr><tr><th>4</th><td>10.408305</td><td>cos</td><td>-0.749923</td><td>1.0</td></tr></tbody></table>\n",
       "</div>"
      ],
      "text/plain": [
       "           X    A         Y    C\n",
       "0  -6.908900  sin -0.547307  1.0\n",
       "1  -1.672205  cos -0.437411  1.0\n",
       "2  -0.329972  cos  1.864713  0.0\n",
       "3  -2.246635  sin -0.576550  1.0\n",
       "4  10.408305  cos -0.749923  1.0"
      ]
     },
     "execution_count": 15,
     "metadata": {},
     "output_type": "execute_result"
    }
   ],
   "source": [
    "df.head()"
   ]
  },
  {
   "cell_type": "code",
   "execution_count": 16,
   "id": "47665f77-3681-4e69-a1a0-a83bccf7d57f",
   "metadata": {},
   "outputs": [],
   "source": [
    "src = ft.TabularPandas(df.copy(),\n",
    "                       procs=[ft.Normalize,ft.Categorify],\n",
    "                       cat_names = cat_names,\n",
    "                       cont_names = cont_names,\n",
    "                       y_names = y_cat_names + y_cont_names,\n",
    "                       splits = ft.RandomSplitter(0.2)(ft.range_of(df))\n",
    "                       )\n",
    "        \n",
    "dls = src.dataloaders(bs=128)"
   ]
  },
  {
   "cell_type": "code",
   "execution_count": null,
   "id": "7bc684ed-a6fa-45b2-b2fe-39b07d859641",
   "metadata": {},
   "outputs": [],
   "source": []
  },
  {
   "cell_type": "code",
   "execution_count": null,
   "id": "e43c5057-22bb-4cec-90b0-59b4fb378006",
   "metadata": {},
   "outputs": [],
   "source": []
  },
  {
   "cell_type": "code",
   "execution_count": 17,
   "id": "19d68c76-73b8-4eeb-9931-7dc1f1004f70",
   "metadata": {},
   "outputs": [],
   "source": [
    "from itertools import accumulate\n",
    "\n",
    "def ycatcont(y,y_cat_names):\n",
    "    n = len(y_cat_names)\n",
    "    return y[:,:n].long(), y[:,n:]\n",
    "\n",
    "class LossFunc(nn.Module):\n",
    "    def __init__(self, df:pd.DataFrame, y_cat_names:list, y_cont_names:list, Yproc, cont_weight = 1.):\n",
    "        super().__init__()\n",
    "        self.y_cat_names = y_cat_names\n",
    "        self.cont_n = len(y_cont_names)\n",
    "        self.cat_n = [len(set(df[c])) for c in y_cat_names]\n",
    "        self.psums = [0] + list(accumulate(self.cat_n))\n",
    "        self.cat_loss = 0\n",
    "        self.cont_loss = 0\n",
    "        self.cont_weight = cont_weight\n",
    "    \n",
    "    def _divide(self, yp:torch.FloatTensor, y:torch.FloatTensor):\n",
    "        P = self.psums\n",
    "        y_cat, y_cont = ycatcont(y,self.y_cat_names)\n",
    "        yp_cat = [yp[:,a:b] for a,b in zip(P,P[1:])]\n",
    "        yp_cont = yp[:,-self.cont_n:]\n",
    "        return yp_cat, yp_cont, y_cat, y_cont\n",
    "    \n",
    "    def accuracy(self, i:int):\n",
    "        def func(yp, y):\n",
    "            yp_cat, yp_cont, y_cat, y_cont = self._divide(yp,y)\n",
    "            return ft.accuracy(yp_cat[i],y_cat[:,i])\n",
    "        func.__name__ = f\"accuracy_{self.y_cat_names[i]}\"\n",
    "        return func\n",
    "    \n",
    "    def mse(self, yp:torch.FloatTensor, y:torch.FloatTensor):\n",
    "        yp_cat, yp_cont, y_cat, y_cont = self._divide(yp,y)\n",
    "        return F.mse_loss(yp_cont,y_cont)\n",
    "    \n",
    "    def l1(self, yp:torch.FloatTensor, y:torch.FloatTensor):\n",
    "        yp_cat, yp_cont, y_cat, y_cont = self._divide(yp,y)\n",
    "        return F.l1_loss(yp_cont,y_cont)\n",
    "    \n",
    "    def catloss(self, yp:torch.FloatTensor, y:torch.FloatTensor):\n",
    "        return self.cat_loss\n",
    "    \n",
    "    def contloss(self, yp:torch.FloatTensor, y:torch.FloatTensor):\n",
    "        return self.cont_loss\n",
    "    \n",
    "    def __call__(self, yp:torch.FloatTensor, y:torch.FloatTensor):\n",
    "        yp_cat, yp_cont, y_cat, y_cont = self._divide(yp,y)\n",
    "        self.cat_loss = sum([F.cross_entropy(yp_c, y_cat[:,i]) for i,yp_c in enumerate(yp_cat)])\n",
    "        self.cont_loss = self.cont_weight*F.mse_loss(yp_cont, y_cont)\n",
    "        return self.cat_loss + self.cont_loss"
   ]
  },
  {
   "cell_type": "code",
   "execution_count": 18,
   "id": "44361f37-3d11-4f5b-93a2-91b89b898c46",
   "metadata": {},
   "outputs": [],
   "source": [
    "loss_func = LossFunc(df,y_cat_names, y_cont_names,Yproc)\n",
    "metrics = ([loss_func.accuracy(i) for i,_ in enumerate(y_cat_names)] + \n",
    "                         [loss_func.mse, loss_func.l1, loss_func.catloss, loss_func.contloss])"
   ]
  },
  {
   "cell_type": "code",
   "execution_count": 19,
   "id": "2fd37083-cba3-454e-92c5-fa13166116b1",
   "metadata": {},
   "outputs": [],
   "source": [
    "learn = ft.tabular_learner(dls,\n",
    "           layers = [256],\n",
    "           opt_func = ft.ranger,\n",
    "           cbs = [ft.GradientClip],\n",
    "           loss_func = loss_func,\n",
    "           metrics = metrics\n",
    "    )"
   ]
  },
  {
   "cell_type": "code",
   "execution_count": 20,
   "id": "26998fcd-e151-4972-810b-34f6c2af3fd8",
   "metadata": {},
   "outputs": [],
   "source": [
    "nin = learn.model.layers[-1][0].in_features\n",
    "nout = Yproc.y_len()+len(y_cont_names)\n",
    "\n",
    "learn.model.layers[-1] = nn.Linear(nin, nout)"
   ]
  },
  {
   "cell_type": "code",
   "execution_count": 21,
   "id": "d0dfc770-43f9-4a71-a93e-a689aca02a0f",
   "metadata": {},
   "outputs": [
    {
     "data": {
      "text/html": [
       "\n",
       "<style>\n",
       "    /* Turns off some styling */\n",
       "    progress {\n",
       "        /* gets rid of default border in Firefox and Opera. */\n",
       "        border: none;\n",
       "        /* Needs to be in here for Safari polyfill so background images work as expected. */\n",
       "        background-size: auto;\n",
       "    }\n",
       "    progress:not([value]), progress:not([value])::-webkit-progress-bar {\n",
       "        background: repeating-linear-gradient(45deg, #7e7e7e, #7e7e7e 10px, #5c5c5c 10px, #5c5c5c 20px);\n",
       "    }\n",
       "    .progress-bar-interrupted, .progress-bar-interrupted::-webkit-progress-bar {\n",
       "        background: #F44336;\n",
       "    }\n",
       "</style>\n"
      ],
      "text/plain": [
       "<ipython.core.display.html object="">"
      ]
     },
     "metadata": {},
     "output_type": "display_data"
    },
    {
     "data": {
      "text/html": [
       "\n",
       "  \n",
       "    \n",
       "      \n",
       "      \n",
       "      \n",
       "      \n",
       "      \n",
       "      \n",
       "      \n",
       "      \n",
       "      \n",
       "    \n",
       "  \n",
       "  \n",
       "    \n",
       "      \n",
       "      \n",
       "      \n",
       "      \n",
       "      \n",
       "      \n",
       "      \n",
       "      \n",
       "      \n",
       "    \n",
       "    \n",
       "      \n",
       "      \n",
       "      \n",
       "      \n",
       "      \n",
       "      \n",
       "      \n",
       "      \n",
       "      \n",
       "    \n",
       "    \n",
       "      \n",
       "      \n",
       "      \n",
       "      \n",
       "      \n",
       "      \n",
       "      \n",
       "      \n",
       "      \n",
       "    \n",
       "    \n",
       "      \n",
       "      \n",
       "      \n",
       "      \n",
       "      \n",
       "      \n",
       "      \n",
       "      \n",
       "      \n",
       "    \n",
       "    \n",
       "      \n",
       "      \n",
       "      \n",
       "      \n",
       "      \n",
       "      \n",
       "      \n",
       "      \n",
       "      \n",
       "    \n",
       "    \n",
       "      \n",
       "      \n",
       "      \n",
       "      \n",
       "      \n",
       "      \n",
       "      \n",
       "      \n",
       "      \n",
       "    \n",
       "    \n",
       "      \n",
       "      \n",
       "      \n",
       "      \n",
       "      \n",
       "      \n",
       "      \n",
       "      \n",
       "      \n",
       "    \n",
       "    \n",
       "      \n",
       "      \n",
       "      \n",
       "      \n",
       "      \n",
       "      \n",
       "      \n",
       "      \n",
       "      \n",
       "    \n",
       "    \n",
       "      \n",
       "      \n",
       "      \n",
       "      \n",
       "      \n",
       "      \n",
       "      \n",
       "      \n",
       "      \n",
       "    \n",
       "    \n",
       "      \n",
       "      \n",
       "      \n",
       "      \n",
       "      \n",
       "      \n",
       "      \n",
       "      \n",
       "      \n",
       "    \n",
       "  \n",
       "<table border="\&quot;1\&quot;" class="\&quot;dataframe\&quot;"><thead><tr style="\&quot;text-align:" left;\"=""><th>epoch</th><th>train_loss</th><th>valid_loss</th><th>accuracy_C</th><th>mse</th><th>l1</th><th>catloss</th><th>contloss</th><th>time</th></tr></thead><tbody><tr><td>0</td><td>2.171693</td><td>1.691318</td><td>0.200000</td><td>0.965029</td><td>0.834653</td><td>0.726288</td><td>0.965029</td><td>00:00</td></tr><tr><td>1</td><td>2.117753</td><td>1.691883</td><td>0.200000</td><td>0.963508</td><td>0.833855</td><td>0.728374</td><td>0.963508</td><td>00:00</td></tr><tr><td>2</td><td>2.108351</td><td>1.692355</td><td>0.200000</td><td>0.962558</td><td>0.833306</td><td>0.729797</td><td>0.962558</td><td>00:00</td></tr><tr><td>3</td><td>2.102366</td><td>1.692781</td><td>0.200000</td><td>0.961998</td><td>0.832995</td><td>0.730783</td><td>0.961998</td><td>00:00</td></tr><tr><td>4</td><td>2.071575</td><td>1.693055</td><td>0.200000</td><td>0.960611</td><td>0.832364</td><td>0.732444</td><td>0.960611</td><td>00:00</td></tr><tr><td>5</td><td>2.067881</td><td>1.694369</td><td>0.200000</td><td>0.959693</td><td>0.831776</td><td>0.734676</td><td>0.959693</td><td>00:00</td></tr><tr><td>6</td><td>2.075832</td><td>1.694042</td><td>0.216667</td><td>0.958688</td><td>0.831303</td><td>0.735354</td><td>0.958688</td><td>00:00</td></tr><tr><td>7</td><td>2.060388</td><td>1.693453</td><td>0.216667</td><td>0.957409</td><td>0.830747</td><td>0.736044</td><td>0.957409</td><td>00:00</td></tr><tr><td>8</td><td>2.071612</td><td>1.693581</td><td>0.216667</td><td>0.955589</td><td>0.829895</td><td>0.737992</td><td>0.955589</td><td>00:00</td></tr><tr><td>9</td><td>2.075625</td><td>1.694307</td><td>0.200000</td><td>0.953805</td><td>0.828996</td><td>0.740502</td><td>0.953805</td><td>00:00</td></tr></tbody></table>"
      ],
      "text/plain": [
       "<ipython.core.display.html object="">"
      ]
     },
     "metadata": {},
     "output_type": "display_data"
    }
   ],
   "source": [
    "learn.fit_one_cycle(10)"
   ]
  },
  {
   "cell_type": "code",
   "execution_count": 22,
   "id": "effb4ffe-ba8c-45b4-a593-a8c9327c34a1",
   "metadata": {},
   "outputs": [
    {
     "ename": "NameError",
     "evalue": "name 'asdf' is not defined",
     "output_type": "error",
     "traceback": [
      "\u001b[0;31m---------------------------------------------------------------------------\u001b[0m",
      "\u001b[0;31mNameError\u001b[0m                                 Traceback (most recent call last)",
      "Input \u001b[0;32mIn [22]\u001b[0m, in \u001b[0;36m<cell line:="" 1="">\u001b[0;34m()\u001b[0m\n\u001b[0;32m----&gt; 1\u001b[0m \u001b[43masdf\u001b[49m\n",
      "\u001b[0;31mNameError\u001b[0m: name 'asdf' is not defined"
     ]
    }
   ],
   "source": [
    "asdf"
   ]
  },
  {
   "cell_type": "code",
   "execution_count": null,
   "id": "e1e7be29-5ccb-4c14-a0fa-158dee1706a2",
   "metadata": {},
   "outputs": [],
   "source": []
  },
  {
   "cell_type": "code",
   "execution_count": null,
   "id": "41388cc8-2cc6-463a-99cd-cf4d0876d4ef",
   "metadata": {},
   "outputs": [],
   "source": []
  },
  {
   "cell_type": "code",
   "execution_count": null,
   "id": "f84d7829-febc-46a6-9e48-300c0522ab23",
   "metadata": {},
   "outputs": [],
   "source": []
  },
  {
   "cell_type": "code",
   "execution_count": null,
   "id": "984ea137-4368-485f-8873-65b93eabfa5c",
   "metadata": {},
   "outputs": [],
   "source": [
    "from layers import *\n",
    "from model import *"
   ]
  },
  {
   "cell_type": "code",
   "execution_count": null,
   "id": "8af0db82-7297-4dec-b8de-8871e35bee94",
   "metadata": {},
   "outputs": [],
   "source": [
    "#LEARNERS=[]\n",
    "def objective(trial: optuna.trial):\n",
    "    \n",
    "    print(\"\\n\\nStarting trial with the following properties: \")\n",
    "    \n",
    "    D = trial.user_attrs\n",
    "    \n",
    "    for key, val in D.items():\n",
    "        print(f\"{key}: {val}\")\n",
    "    print(\"\\t\\t******** STARTING \")\n",
    "    values = D['vals'] if 'vals' in D else []\n",
    "    \n",
    "    if mean(values) &gt; 600 or np.any(np.array(values) &gt; 800):\n",
    "        return mean(values)\n",
    "    \n",
    "    NUM_TRIES = 10\n",
    "    while len(values) &lt; NUM_TRIES:\n",
    "        seed = random.randint(0,1000000)\n",
    "        \n",
    "        src = ft.TabularPandas(df.copy(),\n",
    "                       procs=[ft.Normalize],\n",
    "                       cat_names = cat_names,\n",
    "                       cont_names = cont_names,\n",
    "                       y_names = y_cat_names + y_cont_names,\n",
    "                       splits = ft.RandomSplitter(0.05,seed=seed)(ft.range_of(df))\n",
    "                       )\n",
    "        \n",
    "        dls = src.dataloaders(bs=trial.suggest_categorical('bs',[256,384,512]))\n",
    "        torch.manual_seed(seed)\n",
    "        learn = ft.tabular_learner(dls,\n",
    "               layers = [],\n",
    "               opt_func = ft.ranger,\n",
    "               cbs=[ft.GradientClip],\n",
    "               loss_func = loss_func,\n",
    "               metrics= metrics\n",
    "        )\n",
    "        \n",
    "        nin = learn.model.layers[-1][0].in_features\n",
    "        nout = Yproc.y_len()+len(y_cont_names)\n",
    "\n",
    "        learn.model.layers[-1][0] = nn.Linear(nin, nout)\n",
    "        \n",
    "        improve_model_with_trial(learn.model,trial)\n",
    "        #LEARNERS.append(learn)\n",
    "        #with learn.no_logging():\n",
    "        learn.fit_one_cycle(trial.suggest_int('epochs',50,300),\n",
    "                            trial.suggest_float('lr',1e-4,1e-1,log=True),\n",
    "                            div=trial.suggest_float('div',0.5,1.5),\n",
    "                            div_final=trial.suggest_float('div_final',8,1000000,log=True),\n",
    "                            pct_start=trial.suggest_float('pct_start',0.1,0.8)\n",
    "                           );\n",
    "        idx = learn.recorder.metric_names.index('distance_in_km')\n",
    "        values.append(learn.recorder.log[idx])\n",
    "        \n",
    "        bold_open = \"\\033[1;3m\"\n",
    "        bold_close = \"\\033[0m\"\n",
    "        print(f\"\\tFinished attempt with value: {bold_open}{values[-1]}{bold_close}\")\n",
    "        if values[-1] &lt; 400:\n",
    "            #learn.export(f\"BigData/models/learn_{values[-1]:.3f}_{seed}.pkg\")\n",
    "            pass\n",
    "        if values[-1] &gt; 800:\n",
    "            print(\"Terrible! breaking...\")\n",
    "            break\n",
    "        \n",
    "        \n",
    "    trial.set_user_attr('vals',values)\n",
    "    name = trial.user_attrs['name'] if 'name' in trial.user_attrs.keys() else 'unnamed'\n",
    "    \n",
    "    return mean(values)"
   ]
  },
  {
   "cell_type": "code",
   "execution_count": null,
   "id": "426607f6-3a28-451b-aab0-7926afab1984",
   "metadata": {},
   "outputs": [],
   "source": [
    "def get_params(t):\n",
    "    if len(t.params) == 0: return t.system_attrs['fixed_params']\n",
    "    return t.params\n",
    "    #return {k:rround(v) for k,v in t.params.items()}"
   ]
  },
  {
   "cell_type": "code",
   "execution_count": null,
   "id": "093c0564-a5b7-487b-927a-10e526a8c445",
   "metadata": {},
   "outputs": [],
   "source": [
    "study = torch.load(\"studies/supermega2.pth\")"
   ]
  },
  {
   "cell_type": "code",
   "execution_count": null,
   "id": "0179cfdf-e57e-4397-8441-4acc1ac2a658",
   "metadata": {},
   "outputs": [],
   "source": [
    "def mean(L):\n",
    "    return sum(L)/(len(L)+0.0000001)\n",
    "\n",
    "def reset_study(study):\n",
    "    r = optuna.create_study()\n",
    "    for t in sorted(study.trials,key=lambda x: mean(x.user_attrs['vals'] if 'vals' in x.user_attrs else [1000000])):\n",
    "        if 'vals' in t.user_attrs:\n",
    "            V = t.user_attrs['vals']\n",
    "        else:\n",
    "            V = t.user_attrs\n",
    "        print(f\"Adding study with vals: {V}\")\n",
    "        if len(V) == 0 or np.any(np.isnan(np.array(V))):\n",
    "            print(\"\\tNOOOOO\")\n",
    "        else:\n",
    "            print(f\"\\tOkay. Mean: {mean(V)}\")\n",
    "            r.enqueue_trial(params=get_params(t),user_attrs=t.user_attrs)\n",
    "    return r"
   ]
  },
  {
   "cell_type": "code",
   "execution_count": null,
   "id": "989decfc-b417-49f4-9d83-a20f52d43e1e",
   "metadata": {
    "tags": []
   },
   "outputs": [],
   "source": [
    "study = reset_study(study)"
   ]
  },
  {
   "cell_type": "markdown",
   "id": "3aa6bd1a-1c8f-467b-a4e5-d89ab9eb1089",
   "metadata": {},
   "source": [
    "r = optuna.create_study()\n",
    "r.enqueue_trial(params={'epochs':1})"
   ]
  },
  {
   "cell_type": "code",
   "execution_count": null,
   "id": "08889847-fb59-4c09-a6b8-33fab05ee8b0",
   "metadata": {
    "tags": []
   },
   "outputs": [],
   "source": [
    "study.optimize(objective,n_trials=10)"
   ]
  },
  {
   "cell_type": "code",
   "execution_count": null,
   "id": "ef9686f9-8fe4-4abc-86e9-b5a48581e68e",
   "metadata": {},
   "outputs": [],
   "source": [
    "len(study.trials)"
   ]
  },
  {
   "cell_type": "code",
   "execution_count": null,
   "id": "f7a7a41b-9413-402d-8a15-4e3204986bd8",
   "metadata": {},
   "outputs": [],
   "source": []
  },
  {
   "cell_type": "code",
   "execution_count": null,
   "id": "b8fb200f-57a8-4d0c-8827-95f5e0f52158",
   "metadata": {},
   "outputs": [],
   "source": [
    "torch.save(study,\"studies/supermega2.pth\")"
   ]
  },
  {
   "cell_type": "code",
   "execution_count": null,
   "id": "0b725aad-0b1b-4825-94a9-6d992740b2bc",
   "metadata": {},
   "outputs": [],
   "source": []
  },
  {
   "cell_type": "code",
   "execution_count": null,
   "id": "a1e30c3e-9d42-4bd8-947d-87e2a152acd6",
   "metadata": {},
   "outputs": [],
   "source": []
  },
  {
   "cell_type": "code",
   "execution_count": null,
   "id": "45d87962-5693-4eac-a771-20f6ec4de47f",
   "metadata": {},
   "outputs": [],
   "source": []
  },
  {
   "cell_type": "code",
   "execution_count": null,
   "id": "50ec6dca-8b6d-45a2-94d7-ce650c75019d",
   "metadata": {},
   "outputs": [],
   "source": [
    "learn = ft.load_learner(\"BigData/models/learn_dummy.pkg\")"
   ]
  },
  {
   "cell_type": "code",
   "execution_count": null,
   "id": "636a114f-5f1f-4563-99f1-bc8883030ff8",
   "metadata": {},
   "outputs": [],
   "source": [
    "src = ft.TabularPandas(df.copy(),\n",
    "                       procs=[ft.Normalize],\n",
    "                       cat_names = cat_names,\n",
    "                       cont_names = cont_names,\n",
    "                       y_names = y_cat_names + y_cont_names,\n",
    "                       splits = ft.RandomSplitter(0.05,seed=83499)(ft.range_of(df))\n",
    "                       )\n",
    "        \n",
    "dls = src.dataloaders(bs=512)"
   ]
  },
  {
   "cell_type": "code",
   "execution_count": null,
   "id": "de4c5428-7ecb-4e12-af8d-24a8a26561c6",
   "metadata": {},
   "outputs": [],
   "source": [
    "vdf = df.iloc[dls.valid.items.index].copy()"
   ]
  },
  {
   "cell_type": "code",
   "execution_count": null,
   "id": "4387668d-ed3c-4597-a40c-c0b014f7ae61",
   "metadata": {},
   "outputs": [],
   "source": [
    "def interpret_preds(learn:ft.Learner, dls:ft.DataLoaders, df:pd.DataFrame, Yproc:Preprocess):\n",
    "    df = df.copy().reset_index(drop=True)\n",
    "    test_dl = dls.test_dl(df)\n",
    "    yp,_ = learn.get_preds(dl=test_dl)\n",
    "    \n",
    "    i = 0\n",
    "    for c,n in zip(Yproc.y_cat,Yproc.numericalizers):\n",
    "        j = i+n.num_cats()\n",
    "        p = yp[:,i:j].argmax(dim=1)\n",
    "        df[f'{c}_p'] = p\n",
    "        df[f'{c}_p'] = df[f'{c}_p'].apply(lambda x: n.idx2cat[x])\n",
    "        i = j\n",
    "        \n",
    "    for c,(m,s) in zip(Yproc.y_cont,Yproc.mu_sd):\n",
    "        df[f'{c}_p'] = yp[:,i]*s+m\n",
    "        \n",
    "        i += 1\n",
    "        \n",
    "    return Yproc.unapply(df)\n",
    "    "
   ]
  },
  {
   "cell_type": "code",
   "execution_count": null,
   "id": "9d966cd7-6096-4ca8-8ee6-1443cc3b570c",
   "metadata": {},
   "outputs": [],
   "source": [
    "Q = interpret_preds(learn,dls,vdf,Yproc)"
   ]
  },
  {
   "cell_type": "code",
   "execution_count": null,
   "id": "52d9b292-e477-405e-84d1-c29fcef6a218",
   "metadata": {},
   "outputs": [],
   "source": [
    "Q[[\"x\",\"y\",\"z\",\"x_p\",\"y_p\",\"z_p\"]]"
   ]
  },
  {
   "cell_type": "code",
   "execution_count": null,
   "id": "31854346-f186-495f-9434-21808226ca75",
   "metadata": {},
   "outputs": [],
   "source": [
    "EARTH_RADIUS=6371"
   ]
  },
  {
   "cell_type": "code",
   "execution_count": null,
   "id": "ab0e6d72-df39-4ab5-ae0a-b61560803240",
   "metadata": {
    "tags": []
   },
   "outputs": [],
   "source": [
    "for c in ['x','y','z','x_p','y_p','z_p']:\n",
    "    Q[c] = EARTH_RADIUS*Q[c]"
   ]
  },
  {
   "cell_type": "code",
   "execution_count": null,
   "id": "67bdbdf0-8f99-4830-ae98-6e383a344a37",
   "metadata": {},
   "outputs": [],
   "source": [
    "torch.sqrt(F.mse_loss(torch.tensor(Q['x'].values),torch.tensor(Q['x_p'].values)))"
   ]
  },
  {
   "cell_type": "code",
   "execution_count": null,
   "id": "7b74acf8-3a7f-4a8b-a0c8-bd132e15eb5f",
   "metadata": {
    "tags": []
   },
   "outputs": [],
   "source": [
    "Q.drop(['index','X'],inplace=True,axis=1)"
   ]
  },
  {
   "cell_type": "code",
   "execution_count": null,
   "id": "7be583e0-bd33-4bf2-be7b-678e203252a8",
   "metadata": {},
   "outputs": [],
   "source": [
    "good_cols = ['Latitude','Longitude']\n",
    "good_cols += y_cont_names + y_cat_names\n",
    "good_cols += [c for c in Q.columns if '_p' in c]"
   ]
  },
  {
   "cell_type": "code",
   "execution_count": null,
   "id": "1a89a90a-46f7-468e-ac36-23f03fe06f49",
   "metadata": {},
   "outputs": [],
   "source": [
    "Q = Q[good_cols]"
   ]
  },
  {
   "cell_type": "code",
   "execution_count": null,
   "id": "ef206249-64e2-4a17-97ac-8cc6de085df2",
   "metadata": {},
   "outputs": [],
   "source": [
    "ll = cartesianas2esfericas(Q['x_p'],Q['y_p'],Q['z_p'])\n",
    "ll.rename(columns={'Latitude':'Latitude_p', 'Longitude':'Longitude_p'},inplace=True)"
   ]
  },
  {
   "cell_type": "code",
   "execution_count": null,
   "id": "1b263e9e-239b-4755-8784-d4f2048114b2",
   "metadata": {},
   "outputs": [],
   "source": [
    "Q = pd.concat([Q,ll],axis=1)"
   ]
  },
  {
   "cell_type": "code",
   "execution_count": null,
   "id": "3b8da0f5-3418-48fe-a30b-95f129c12386",
   "metadata": {},
   "outputs": [],
   "source": [
    "#malos = (Q['Latitude']/Q['Latitude_p'] &lt; -0.9)\n",
    "#Q.loc[malos,'Longitude_p'] = -Q['Longitude_p']\n",
    "#Q.loc[malos,'Latitude_p'] = -Q['Latitude_p']"
   ]
  },
  {
   "cell_type": "code",
   "execution_count": null,
   "id": "d37d06a0-1937-4dcf-9531-0a2d22fcf1c7",
   "metadata": {},
   "outputs": [],
   "source": [
    "Q.to_csv(\"data/prediccion_final_alpha2.csv\",index=False)"
   ]
  },
  {
   "cell_type": "code",
   "execution_count": null,
   "id": "efa15f1f-3b95-454a-baac-32d5fe200115",
   "metadata": {
    "tags": []
   },
   "outputs": [],
   "source": [
    "Q[['Latitude','Latitude_p','Longitude','Longitude_p']]"
   ]
  },
  {
   "cell_type": "code",
   "execution_count": null,
   "id": "36132ec1-6b1d-4dca-9022-cf310edd820b",
   "metadata": {},
   "outputs": [],
   "source": [
    "Q[Q['ECONAME'] != Q['ECONAME_p']][['ECONAME','ECONAME_p']]"
   ]
  },
  {
   "cell_type": "code",
   "execution_count": null,
   "id": "f5bcf70f-9414-45bd-9b2a-d1a5fc6168c0",
   "metadata": {},
   "outputs": [],
   "source": [
    "Q[Q['BIOME'] != Q['BIOME_p']][['BIOME','BIOME_p','ECONAME','ECONAME_p']]"
   ]
  },
  {
   "cell_type": "code",
   "execution_count": null,
   "id": "bc4a1bd9-70ac-49b5-aec4-fc0f64ce4606",
   "metadata": {},
   "outputs": [],
   "source": [
    "Q[['BIOME','BIOME_p','ECONAME','ECONAME_p']]"
   ]
  },
  {
   "cell_type": "code",
   "execution_count": null,
   "id": "adcb707a-bbd0-43a1-baad-4f1da044f674",
   "metadata": {},
   "outputs": [],
   "source": [
    "10/161"
   ]
  },
  {
   "cell_type": "code",
   "execution_count": null,
   "id": "cc62fe35-63dd-42fd-a521-77255a937d4b",
   "metadata": {},
   "outputs": [],
   "source": [
    "learn.model"
   ]
  },
  {
   "cell_type": "code",
   "execution_count": null,
   "id": "d860ec62-07fb-4c7f-8de3-62393b7271be",
   "metadata": {},
   "outputs": [],
   "source": []
  },
  {
   "cell_type": "code",
   "execution_count": null,
   "id": "c4034add-aefc-4eed-a93d-ee10ee08a9f3",
   "metadata": {},
   "outputs": [],
   "source": []
  },
  {
   "cell_type": "code",
   "execution_count": null,
   "id": "f61a0445-51a1-4da8-8f61-14cbaf899894",
   "metadata": {},
   "outputs": [],
   "source": []
  },
  {
   "cell_type": "code",
   "execution_count": null,
   "id": "3a0f679a-7579-4d47-ae65-33feb787f0df",
   "metadata": {},
   "outputs": [],
   "source": []
  },
  {
   "cell_type": "code",
   "execution_count": null,
   "id": "bcdc6384-34f7-4b58-ae9a-5a7f6a6317ed",
   "metadata": {},
   "outputs": [],
   "source": []
  },
  {
   "cell_type": "code",
   "execution_count": null,
   "id": "924b4ddb-23d8-41d2-a2e2-475e3ecbb8aa",
   "metadata": {},
   "outputs": [],
   "source": []
  },
  {
   "cell_type": "code",
   "execution_count": null,
   "id": "f16d54e3-e29f-4c37-89d8-f5edad02766a",
   "metadata": {},
   "outputs": [],
   "source": []
  },
  {
   "cell_type": "code",
   "execution_count": null,
   "id": "dec866f3-5f9e-4960-8971-a3bba5f45119",
   "metadata": {},
   "outputs": [],
   "source": []
  },
  {
   "cell_type": "code",
   "execution_count": null,
   "id": "2238131c-b4c7-4c16-b6f3-55691827340c",
   "metadata": {},
   "outputs": [],
   "source": []
  }
 ],
 "metadata": {
  "kernelspec": {
   "display_name": "Python 3 (ipykernel)",
   "language": "python",
   "name": "python3"
  },
  "language_info": {
   "codemirror_mode": {
    "name": "ipython",
    "version": 3
   },
   "file_extension": ".py",
   "mimetype": "text/x-python",
   "name": "python",
   "nbconvert_exporter": "python",
   "pygments_lexer": "ipython3",
   "version": "3.9.12"
  }
 },
 "nbformat": 4,
 "nbformat_minor": 5
}
</cell></ipython.core.display.html></ipython.core.display.html></class></body></html>