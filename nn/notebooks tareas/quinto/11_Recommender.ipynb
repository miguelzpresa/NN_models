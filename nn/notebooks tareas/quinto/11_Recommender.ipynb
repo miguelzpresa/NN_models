<html><head>
<meta http-equiv="content-type" content="text/html; charset=UTF-8"></head><body>{
 "cells": [
  {
   "cell_type": "code",
   "execution_count": 17,
   "metadata": {},
   "outputs": [],
   "source": [
    "import fastai.collab as fc\n",
    "import fastai.tabular.all as ft\n",
    "import pandas as pd\n",
    "\n",
    "import torch\n",
    "import torch.nn as nn \n",
    "import torch.nn.functional as F"
   ]
  },
  {
   "cell_type": "markdown",
   "metadata": {},
   "source": [
    "# Explorando los datos\n",
    "\n",
    "Obtuve los datos de aquí:\n",
    "https://www.kaggle.com/marlesson/myanimelist-dataset-animes-profiles-reviews"
   ]
  },
  {
   "cell_type": "code",
   "execution_count": 2,
   "metadata": {
    "collapsed": true,
    "jupyter": {
     "outputs_hidden": true
    },
    "tags": []
   },
   "outputs": [
    {
     "data": {
      "text/html": [
       "<div>\n",
       "<style scoped="">\n",
       "    .dataframe tbody tr th:only-of-type {\n",
       "        vertical-align: middle;\n",
       "    }\n",
       "\n",
       "    .dataframe tbody tr th {\n",
       "        vertical-align: top;\n",
       "    }\n",
       "\n",
       "    .dataframe thead th {\n",
       "        text-align: right;\n",
       "    }\n",
       "</style>\n",
       "\n",
       "  \n",
       "    \n",
       "      \n",
       "      \n",
       "      \n",
       "      \n",
       "      \n",
       "      \n",
       "      \n",
       "      \n",
       "      \n",
       "      \n",
       "      \n",
       "      \n",
       "      \n",
       "    \n",
       "  \n",
       "  \n",
       "    \n",
       "      \n",
       "      \n",
       "      \n",
       "      \n",
       "      \n",
       "      \n",
       "      \n",
       "      \n",
       "      \n",
       "      \n",
       "      \n",
       "      \n",
       "      \n",
       "    \n",
       "    \n",
       "      \n",
       "      \n",
       "      \n",
       "      \n",
       "      \n",
       "      \n",
       "      \n",
       "      \n",
       "      \n",
       "      \n",
       "      \n",
       "      \n",
       "      \n",
       "    \n",
       "    \n",
       "      \n",
       "      \n",
       "      \n",
       "      \n",
       "      \n",
       "      \n",
       "      \n",
       "      \n",
       "      \n",
       "      \n",
       "      \n",
       "      \n",
       "      \n",
       "    \n",
       "    \n",
       "      \n",
       "      \n",
       "      \n",
       "      \n",
       "      \n",
       "      \n",
       "      \n",
       "      \n",
       "      \n",
       "      \n",
       "      \n",
       "      \n",
       "      \n",
       "    \n",
       "    \n",
       "      \n",
       "      \n",
       "      \n",
       "      \n",
       "      \n",
       "      \n",
       "      \n",
       "      \n",
       "      \n",
       "      \n",
       "      \n",
       "      \n",
       "      \n",
       "    \n",
       "    \n",
       "      \n",
       "      \n",
       "      \n",
       "      \n",
       "      \n",
       "      \n",
       "      \n",
       "      \n",
       "      \n",
       "      \n",
       "      \n",
       "      \n",
       "      \n",
       "    \n",
       "    \n",
       "      \n",
       "      \n",
       "      \n",
       "      \n",
       "      \n",
       "      \n",
       "      \n",
       "      \n",
       "      \n",
       "      \n",
       "      \n",
       "      \n",
       "      \n",
       "    \n",
       "    \n",
       "      \n",
       "      \n",
       "      \n",
       "      \n",
       "      \n",
       "      \n",
       "      \n",
       "      \n",
       "      \n",
       "      \n",
       "      \n",
       "      \n",
       "      \n",
       "    \n",
       "    \n",
       "      \n",
       "      \n",
       "      \n",
       "      \n",
       "      \n",
       "      \n",
       "      \n",
       "      \n",
       "      \n",
       "      \n",
       "      \n",
       "      \n",
       "      \n",
       "    \n",
       "    \n",
       "      \n",
       "      \n",
       "      \n",
       "      \n",
       "      \n",
       "      \n",
       "      \n",
       "      \n",
       "      \n",
       "      \n",
       "      \n",
       "      \n",
       "      \n",
       "    \n",
       "    \n",
       "      \n",
       "      \n",
       "      \n",
       "      \n",
       "      \n",
       "      \n",
       "      \n",
       "      \n",
       "      \n",
       "      \n",
       "      \n",
       "      \n",
       "      \n",
       "    \n",
       "  \n",
       "<table border="\&quot;1\&quot;" class="\&quot;dataframe\&quot;"><thead><tr style="\&quot;text-align:" right;\"=""><th></th><th>uid</th><th>title</th><th>synopsis</th><th>genre</th><th>aired</th><th>episodes</th><th>members</th><th>popularity</th><th>ranked</th><th>score</th><th>img_url</th><th>link</th></tr></thead><tbody><tr><th>0</th><td>28891</td><td>Haikyuu!! Second Season</td><td>Following
 their participation at the Inter-High, the Karasuno High School 
volleyball team attempts to refocus their efforts, aiming to conquer the
 Spring tournament instead.  \\r\\n \\r\\nWhen they receive an 
invitation from long-standing rival Nekoma High, Karasuno agrees to take
 part in a large training camp alongside many notable volleyball teams 
in Tokyo and even some national level players. By playing with some of 
the toughest teams in Japan, they hope not only to sharpen their skills,
 but also come up with new attacks that would strengthen them. Moreover,
 Hinata and Kageyama attempt to d...</td><td>['Comedy', 'Sports', 'Drama', 'School', 'Shounen']</td><td>Oct 4, 2015 to Mar 27, 2016</td><td>25.0</td><td>489888</td><td>141</td><td>25.0</td><td>8.82</td><td>https://cdn.myanimelist.net/images/anime/9/76662.jpg</td><td>https://myanimelist.net/anime/28891/Haikyuu_Second_Season</td></tr><tr><th>1</th><td>23273</td><td>Shigatsu wa Kimi no Uso</td><td>Music
 accompanies the path of the human metronome, the prodigious pianist 
Kousei Arima. But after the passing of his mother, Saki Arima, Kousei 
falls into a downward spiral, rendering him unable to hear the sound of 
his own piano. \\r\\n  \\r\\nTwo years later, Kousei still avoids the 
piano, leaving behind his admirers and rivals, and lives a colorless 
life alongside his friends Tsubaki Sawabe and Ryouta Watari. However, 
everything changes when he meets a beautiful violinist, Kaori Miyazono, 
who stirs up his world and sets him on a journey to face music again. 
\\r\\n \\r\\nBased on the manga serie...</td><td>['Drama', 'Music', 'Romance', 'School', 'Shounen']</td><td>Oct 10, 2014 to Mar 20, 2015</td><td>22.0</td><td>995473</td><td>28</td><td>24.0</td><td>8.83</td><td>https://cdn.myanimelist.net/images/anime/3/67177.jpg</td><td>https://myanimelist.net/anime/23273/Shigatsu_wa_Kimi_no_Uso</td></tr><tr><th>2</th><td>34599</td><td>Made in Abyss</td><td>The
 Abyss—a gaping chasm stretching down into the depths of the earth, 
filled with mysterious creatures and relics from a time long past. How 
did it come to be? What lies at the bottom? Countless brave individuals,
 known as Divers, have sought to solve these mysteries of the Abyss, 
fearlessly descending into its darkest realms. The best and bravest of 
the Divers, the White Whistles, are hailed as legends by those who 
remain on the surface. \\r\\n \\r\\nRiko, daughter of the missing White 
Whistle Lyza the Annihilator, aspires to become like her mother and 
explore the furthest reaches of the Aby...</td><td>['Sci-Fi', 'Adventure', 'Mystery', 'Drama', 'Fantasy']</td><td>Jul 7, 2017 to Sep 29, 2017</td><td>13.0</td><td>581663</td><td>98</td><td>23.0</td><td>8.83</td><td>https://cdn.myanimelist.net/images/anime/6/86733.jpg</td><td>https://myanimelist.net/anime/34599/Made_in_Abyss</td></tr><tr><th>3</th><td>5114</td><td>Fullmetal Alchemist: Brotherhood</td><td>\"In
 order for something to be obtained, something of equal value must be 
lost.\" \\r\\n \\r\\nAlchemy is bound by this Law of Equivalent 
Exchange—something the young brothers Edward and Alphonse Elric only 
realize after attempting human transmutation: the one forbidden act of 
alchemy. They pay a terrible price for their transgression—Edward loses 
his left leg, Alphonse his physical body. It is only by the desperate 
sacrifice of Edward's right arm that he is able to affix Alphonse's soul
 to a suit of armor. Devastated and alone, it is the hope that they 
would both eventually return to their orig...</td><td>['Action', 'Military', 'Adventure', 'Comedy', 'Drama', 'Magic', 'Fantasy', 'Shounen']</td><td>Apr 5, 2009 to Jul 4, 2010</td><td>64.0</td><td>1615084</td><td>4</td><td>1.0</td><td>9.23</td><td>https://cdn.myanimelist.net/images/anime/1223/96541.jpg</td><td>https://myanimelist.net/anime/5114/Fullmetal_Alchemist__Brotherhood</td></tr><tr><th>4</th><td>31758</td><td>Kizumonogatari III: Reiketsu-hen</td><td>After
 helping revive the legendary vampire Kiss-shot Acerola-orion 
Heart-under-blade, Koyomi Araragi has become a vampire himself and her 
servant. Kiss-shot is certain she can turn him back into a human, but 
only once regaining her full power.  \\r\\n \\r\\nAraragi has hunted 
down the three vampire hunters that defeated Kiss-shot and retrieved her
 limbs to return her to full strength. However, now that Araragi has 
almost accomplished what he’s been fighting for this whole time, he has 
to consider if this is what he really wants. Once he revives this 
powerful immortal vampire, there is no telli...</td><td>['Action', 'Mystery', 'Supernatural', 'Vampire']</td><td>Jan 6, 2017</td><td>1.0</td><td>214621</td><td>502</td><td>22.0</td><td>8.83</td><td>https://cdn.myanimelist.net/images/anime/3/81576.jpg</td><td>https://myanimelist.net/anime/31758/Kizumonogatari_III__Reiketsu-hen</td></tr><tr><th>...</th><td>...</td><td>...</td><td>...</td><td>...</td><td>...</td><td>...</td><td>...</td><td>...</td><td>...</td><td>...</td><td>...</td><td>...</td></tr><tr><th>19306</th><td>32979</td><td>Flip Flappers</td><td>Cocona
 is an average middle schooler living with her grandmother. And she who 
has yet to decide a goal to strive for, soon met a strange girl named 
Papika who invites her to an organization called Flip Flap. \\r\\n 
\\r\\nDragged along by the energetic stranger, Cocona finds herself in 
the world of Pure Illusion—a bizarre alternate dimension—helping Papika 
look for crystal shards. Upon completing their mission, Papika and 
Cocona are sent to yet another world in Pure Illusion. As a dangerous 
creature besets them, the girls use their crystals to transform into 
magical girls: Cocona into Pure Blad...</td><td>['Sci-Fi', 'Adventure', 'Comedy', 'Magic']</td><td>Oct 6, 2016 to Dec 29, 2016</td><td>13.0</td><td>134252</td><td>843</td><td>1070.0</td><td>7.73</td><td>https://cdn.myanimelist.net/images/anime/4/82292.jpg</td><td>https://myanimelist.net/anime/32979/Flip_Flappers</td></tr><tr><th>19307</th><td>123</td><td>Fushigi Yuugi</td><td>While
 visiting the National Library, junior-high students Miaka Yuuki and Yui
 Hongo are transported into the world of a mysterious book set in 
ancient China, \"The Universe of The Four Gods.\" Miaka suddenly finds 
herself with the responsibility of being the priestess of Suzaku, and 
must find all of her celestial warriors for the purpose of summoning 
Suzaku for three wishes; however, the enemy nation of the god Seiryuu 
has manipulated Yui into becoming the priestess of Seiryuu. As enemies, 
the former best friends begin their long struggle to summon their 
respective gods and obtain their wish...</td><td>['Adventure', 'Fantasy', 'Magic', 'Martial Arts', 'Comedy', 'Romance', 'Historical', 'Drama', 'Shoujo']</td><td>Apr 6, 1995 to Mar 28, 1996</td><td>52.0</td><td>84407</td><td>1292</td><td>1071.0</td><td>7.73</td><td>https://cdn.myanimelist.net/images/anime/2/20140.jpg</td><td>https://myanimelist.net/anime/123/Fushigi_Yuugi</td></tr><tr><th>19308</th><td>1281</td><td>Gakkou no Kaidan</td><td>Years
 ago, all of the ghosts in a haunted schoolhouse were banished by a 
certain student. Now, they're back—and they want revenge... \\r\\n  
\\r\\nSatsuki and Keiichirou Miyanoshita are two siblings recovering 
from the tragic loss of their mother. After moving to their mother's 
hometown, they learn that the local school they have transferred to is 
an old building—one said to be haunted. Despite initially brushing it 
off as a silly rumor, the two soon discover that ghosts are indeed real 
and that they're after them!  Gakkou no Kaidan  is the creepy tale of 
the lives of these siblings and their ...</td><td>['Mystery', 'Horror', 'Supernatural']</td><td>Oct 22, 2000 to Mar 25, 2001</td><td>19.0</td><td>83093</td><td>1314</td><td>1073.0</td><td>7.73</td><td>https://cdn.myanimelist.net/images/anime/9/18360.jpg</td><td>https://myanimelist.net/anime/1281/Gakkou_no_Kaidan</td></tr><tr><th>19309</th><td>450</td><td>InuYasha Movie 2: Kagami no Naka no Mugenjo</td><td>Inuyasha
 and company have finally destroyed Naraku. And each start to go in 
their separate ways. Sango going to find her younger brother Kohaku; 
Miroku back to his old home; Inuyasha, Kagome and Shippou go to gather 
the rest of the Shikon shards. Unfortunately this peace is not to last. 
Shortly afterwards the full moon rises, and just keeps rising each night
 bringing with it the promise of danger. Kagura and Kanna go in search 
of a mirror, where locked inside is the ruler of the eternal night, 
Kaguya. To set her free they must gather five items and drop them into 
the five lakes of Fuji. Se...</td><td>['Action', 'Adventure', 'Comedy', 'Historical', 'Demons', 'Supernatural', 'Drama', 'Magic', 'Romance', 'Fantasy', 'Shounen']</td><td>Dec 21, 2002</td><td>1.0</td><td>71989</td><td>1469</td><td>1077.0</td><td>7.73</td><td>https://cdn.myanimelist.net/images/anime/1162/92219.jpg</td><td>https://myanimelist.net/anime/450/InuYasha_Movie_2__Kagami_no_Naka_no_Mugenjo</td></tr><tr><th>19310</th><td>87</td><td>Mobile Suit Gundam: Char's Counterattack</td><td>The
 year is Universal Century 0093. Char Aznable has taken command of Neo 
Zeon, the rebels of outer space. He firmly believes that humankind can 
only achieve peace by relocating to space. Thus, he plans to crash the 
giant asteroid Axis into Earth and plunge the planet into an 
uninhabitable winter. Char also eagerly anticipates this opportunity to 
settle a 14-year rivalry with Amuro Ray. The two have been reluctant 
allies at times, but Char has never forgiven Amuro for causing the death
 of one of his comrades during the One Year War. \\r\\n \\r\\nOnly the 
Earth Federation's Londo Bell Unit has ...</td><td>['Military', 'Sci-Fi', 'Space', 'Drama', 'Mecha']</td><td>Mar 12, 1988</td><td>1.0</td><td>29248</td><td>2604</td><td>1081.0</td><td>7.73</td><td>https://cdn.myanimelist.net/images/anime/1523/92371.jpg</td><td>https://myanimelist.net/anime/87/Mobile_Suit_Gundam__Chars_Counterattack</td></tr></tbody></table>\n",
       "<p>19311 rows × 12 columns</p>\n",
       "</div>"
      ],
      "text/plain": [
       "         uid                                        title  
\\\n",
       "0      28891                      Haikyuu!! Second Season   \n",
       "1      23273                      Shigatsu wa Kimi no Uso   \n",
       "2      34599                                Made in Abyss   \n",
       "3       5114             Fullmetal Alchemist: Brotherhood   \n",
       "4      31758             Kizumonogatari III: Reiketsu-hen   \n",
       "...      ...                                          ...   \n",
       "19306  32979                                Flip Flappers   \n",
       "19307    123                                Fushigi Yuugi   \n",
       "19308   1281                             Gakkou no Kaidan   \n",
       "19309    450  InuYasha Movie 2: Kagami no Naka no Mugenjo   \n",
       "19310     87     Mobile Suit Gundam: Char's Counterattack   \n",
       "\n",
       "                                                                
                                                                        
                                                                        
                                                                        
                                                                        
                                                                        
                                                                        
                                                                        
                              synopsis  \\\n",
       "0      Following their participation at the Inter-High, the 
Karasuno High School volleyball team attempts to refocus their efforts, 
aiming to conquer the Spring tournament instead.  \\r\\n \\r\\nWhen they
 receive an invitation from long-standing rival Nekoma High, Karasuno 
agrees to take part in a large training camp alongside many notable 
volleyball teams in Tokyo and even some national level players. By 
playing with some of the toughest teams in Japan, they hope not only to 
sharpen their skills, but also come up with new attacks that would 
strengthen them. Moreover, Hinata and Kageyama attempt to d...   \n",
       "1      Music accompanies the path of the human metronome, the 
prodigious pianist Kousei Arima. But after the passing of his mother, 
Saki Arima, Kousei falls into a downward spiral, rendering him unable to
 hear the sound of his own piano. \\r\\n  \\r\\nTwo years later, Kousei 
still avoids the piano, leaving behind his admirers and rivals, and 
lives a colorless life alongside his friends Tsubaki Sawabe and Ryouta 
Watari. However, everything changes when he meets a beautiful violinist,
 Kaori Miyazono, who stirs up his world and sets him on a journey to 
face music again. \\r\\n \\r\\nBased on the manga serie...   \n",
       "2      The Abyss—a gaping chasm stretching down into the depths 
of the earth, filled with mysterious creatures and relics from a time 
long past. How did it come to be? What lies at the bottom? Countless 
brave individuals, known as Divers, have sought to solve these mysteries
 of the Abyss, fearlessly descending into its darkest realms. The best 
and bravest of the Divers, the White Whistles, are hailed as legends by 
those who remain on the surface. \\r\\n \\r\\nRiko, daughter of the 
missing White Whistle Lyza the Annihilator, aspires to become like her 
mother and explore the furthest reaches of the Aby...   \n",
       "3      \"In order for something to be obtained, something of 
equal value must be lost.\" \\r\\n \\r\\nAlchemy is bound by this Law of
 Equivalent Exchange—something the young brothers Edward and Alphonse 
Elric only realize after attempting human transmutation: the one 
forbidden act of alchemy. They pay a terrible price for their 
transgression—Edward loses his left leg, Alphonse his physical body. It 
is only by the desperate sacrifice of Edward's right arm that he is able
 to affix Alphonse's soul to a suit of armor. Devastated and alone, it 
is the hope that they would both eventually return to their orig...   
\n",
       "4      After helping revive the legendary vampire Kiss-shot 
Acerola-orion Heart-under-blade, Koyomi Araragi has become a vampire 
himself and her servant. Kiss-shot is certain she can turn him back into
 a human, but only once regaining her full power.  \\r\\n \\r\\nAraragi 
has hunted down the three vampire hunters that defeated Kiss-shot and 
retrieved her limbs to return her to full strength. However, now that 
Araragi has almost accomplished what he’s been fighting for this whole 
time, he has to consider if this is what he really wants. Once he 
revives this powerful immortal vampire, there is no telli...   \n",
       "...                                                             
                                                                        
                                                                        
                                                                        
                                                                        
                                                                        
                                                                        
                                                                        
                                   ...   \n",
       "19306  Cocona is an average middle schooler living with her 
grandmother. And she who has yet to decide a goal to strive for, soon 
met a strange girl named Papika who invites her to an organization 
called Flip Flap. \\r\\n \\r\\nDragged along by the energetic stranger, 
Cocona finds herself in the world of Pure Illusion—a bizarre alternate 
dimension—helping Papika look for crystal shards. Upon completing their 
mission, Papika and Cocona are sent to yet another world in Pure 
Illusion. As a dangerous creature besets them, the girls use their 
crystals to transform into magical girls: Cocona into Pure Blad...   
\n",
       "19307  While visiting the National Library, junior-high students
 Miaka Yuuki and Yui Hongo are transported into the world of a 
mysterious book set in ancient China, \"The Universe of The Four Gods.\"
 Miaka suddenly finds herself with the responsibility of being the 
priestess of Suzaku, and must find all of her celestial warriors for the
 purpose of summoning Suzaku for three wishes; however, the enemy nation
 of the god Seiryuu has manipulated Yui into becoming the priestess of 
Seiryuu. As enemies, the former best friends begin their long struggle 
to summon their respective gods and obtain their wish...   \n",
       "19308  Years ago, all of the ghosts in a haunted schoolhouse 
were banished by a certain student. Now, they're back—and they want 
revenge... \\r\\n  \\r\\nSatsuki and Keiichirou Miyanoshita are two 
siblings recovering from the tragic loss of their mother. After moving 
to their mother's hometown, they learn that the local school they have 
transferred to is an old building—one said to be haunted. Despite 
initially brushing it off as a silly rumor, the two soon discover that 
ghosts are indeed real and that they're after them!  Gakkou no Kaidan  
is the creepy tale of the lives of these siblings and their ...   \n",
       "19309  Inuyasha and company have finally destroyed Naraku. And 
each start to go in their separate ways. Sango going to find her younger
 brother Kohaku; Miroku back to his old home; Inuyasha, Kagome and 
Shippou go to gather the rest of the Shikon shards. Unfortunately this 
peace is not to last. Shortly afterwards the full moon rises, and just 
keeps rising each night bringing with it the promise of danger. Kagura 
and Kanna go in search of a mirror, where locked inside is the ruler of 
the eternal night, Kaguya. To set her free they must gather five items 
and drop them into the five lakes of Fuji. Se...   \n",
       "19310  The year is Universal Century 0093. Char Aznable has 
taken command of Neo Zeon, the rebels of outer space. He firmly believes
 that humankind can only achieve peace by relocating to space. Thus, he 
plans to crash the giant asteroid Axis into Earth and plunge the planet 
into an uninhabitable winter. Char also eagerly anticipates this 
opportunity to settle a 14-year rivalry with Amuro Ray. The two have 
been reluctant allies at times, but Char has never forgiven Amuro for 
causing the death of one of his comrades during the One Year War. \\r\\n
 \\r\\nOnly the Earth Federation's Londo Bell Unit has ...   \n",
       "\n",
       "                                                                
                                                              genre  
\\\n",
       "0                                                               
                 ['Comedy', 'Sports', 'Drama', 'School', 'Shounen']   
\n",
       "1                                                               
                 ['Drama', 'Music', 'Romance', 'School', 'Shounen']   
\n",
       "2                                                               
             ['Sci-Fi', 'Adventure', 'Mystery', 'Drama', 'Fantasy']   
\n",
       "3                                             ['Action', 
'Military', 'Adventure', 'Comedy', 'Drama', 'Magic', 'Fantasy', 
'Shounen']   \n",
       "4                                                               
                   ['Action', 'Mystery', 'Supernatural', 'Vampire']   
\n",
       "...                                                             
                                                                ...   
\n",
       "19306                                                           
                         ['Sci-Fi', 'Adventure', 'Comedy', 'Magic']   
\n",
       "19307                       ['Adventure', 'Fantasy', 'Magic', 
'Martial Arts', 'Comedy', 'Romance', 'Historical', 'Drama', 'Shoujo']   
\n",
       "19308                                                           
                              ['Mystery', 'Horror', 'Supernatural']   
\n",
       "19309  ['Action', 'Adventure', 'Comedy', 'Historical', 'Demons',
 'Supernatural', 'Drama', 'Magic', 'Romance', 'Fantasy', 'Shounen']   
\n",
       "19310                                                           
                  ['Military', 'Sci-Fi', 'Space', 'Drama', 'Mecha']   
\n",
       "\n",
       "                              aired  episodes  members  
popularity  ranked  \\\n",
       "0       Oct 4, 2015 to Mar 27, 2016      25.0   489888         
141    25.0   \n",
       "1      Oct 10, 2014 to Mar 20, 2015      22.0   995473          
28    24.0   \n",
       "2       Jul 7, 2017 to Sep 29, 2017      13.0   581663          
98    23.0   \n",
       "3        Apr 5, 2009 to Jul 4, 2010      64.0  1615084          
 4     1.0   \n",
       "4                       Jan 6, 2017       1.0   214621         
502    22.0   \n",
       "...                             ...       ...      ...         
...     ...   \n",
       "19306   Oct 6, 2016 to Dec 29, 2016      13.0   134252         
843  1070.0   \n",
       "19307   Apr 6, 1995 to Mar 28, 1996      52.0    84407        
1292  1071.0   \n",
       "19308  Oct 22, 2000 to Mar 25, 2001      19.0    83093        
1314  1073.0   \n",
       "19309                  Dec 21, 2002       1.0    71989        
1469  1077.0   \n",
       "19310                  Mar 12, 1988       1.0    29248        
2604  1081.0   \n",
       "\n",
       "       score                                                  
img_url  \\\n",
       "0       8.82     
https://cdn.myanimelist.net/images/anime/9/76662.jpg   \n",
       "1       8.83     
https://cdn.myanimelist.net/images/anime/3/67177.jpg   \n",
       "2       8.83     
https://cdn.myanimelist.net/images/anime/6/86733.jpg   \n",
       "3       9.23  
https://cdn.myanimelist.net/images/anime/1223/96541.jpg   \n",
       "4       8.83     
https://cdn.myanimelist.net/images/anime/3/81576.jpg   \n",
       "...      ...                                                    
  ...   \n",
       "19306   7.73     
https://cdn.myanimelist.net/images/anime/4/82292.jpg   \n",
       "19307   7.73     
https://cdn.myanimelist.net/images/anime/2/20140.jpg   \n",
       "19308   7.73     
https://cdn.myanimelist.net/images/anime/9/18360.jpg   \n",
       "19309   7.73  
https://cdn.myanimelist.net/images/anime/1162/92219.jpg   \n",
       "19310   7.73  
https://cdn.myanimelist.net/images/anime/1523/92371.jpg   \n",
       "\n",
       "                                                                
                link  \n",
       "0                          
https://myanimelist.net/anime/28891/Haikyuu_Second_Season  \n",
       "1                        
https://myanimelist.net/anime/23273/Shigatsu_wa_Kimi_no_Uso  \n",
       "2                                  
https://myanimelist.net/anime/34599/Made_in_Abyss  \n",
       "3                
https://myanimelist.net/anime/5114/Fullmetal_Alchemist__Brotherhood  
\n",
       "4               
https://myanimelist.net/anime/31758/Kizumonogatari_III__Reiketsu-hen  
\n",
       "...                                                             
                 ...  \n",
       "19306                              
https://myanimelist.net/anime/32979/Flip_Flappers  \n",
       "19307                                
https://myanimelist.net/anime/123/Fushigi_Yuugi  \n",
       "19308                            
https://myanimelist.net/anime/1281/Gakkou_no_Kaidan  \n",
       "19309  
https://myanimelist.net/anime/450/
InuYasha_Movie_2__Kagami_no_Naka_no_Mugenjo  \n",
       "19310       
https://myanimelist.net/anime/87/Mobile_Suit_Gundam__Chars_Counterattack
  \n",
       "\n",
       "[19311 rows x 12 columns]"
      ]
     },
     "execution_count": 2,
     "metadata": {},
     "output_type": "execute_result"
    }
   ],
   "source": [
    "animes = pd.read_csv(\"AnimeReviews/animes.csv\"); animes"
   ]
  },
  {
   "cell_type": "code",
   "execution_count": 11,
   "metadata": {
    "tags": []
   },
   "outputs": [
    {
     "data": {
      "text/html": [
       "<div>\n",
       "<style scoped="">\n",
       "    .dataframe tbody tr th:only-of-type {\n",
       "        vertical-align: middle;\n",
       "    }\n",
       "\n",
       "    .dataframe tbody tr th {\n",
       "        vertical-align: top;\n",
       "    }\n",
       "\n",
       "    .dataframe thead th {\n",
       "        text-align: right;\n",
       "    }\n",
       "</style>\n",
       "\n",
       "  \n",
       "    \n",
       "      \n",
       "      \n",
       "      \n",
       "      \n",
       "      \n",
       "      \n",
       "    \n",
       "  \n",
       "  \n",
       "    \n",
       "      \n",
       "      \n",
       "      \n",
       "      \n",
       "      \n",
       "      \n",
       "    \n",
       "    \n",
       "      \n",
       "      \n",
       "      \n",
       "      \n",
       "      \n",
       "      \n",
       "    \n",
       "    \n",
       "      \n",
       "      \n",
       "      \n",
       "      \n",
       "      \n",
       "      \n",
       "    \n",
       "    \n",
       "      \n",
       "      \n",
       "      \n",
       "      \n",
       "      \n",
       "      \n",
       "    \n",
       "    \n",
       "      \n",
       "      \n",
       "      \n",
       "      \n",
       "      \n",
       "      \n",
       "    \n",
       "    \n",
       "      \n",
       "      \n",
       "      \n",
       "      \n",
       "      \n",
       "      \n",
       "    \n",
       "    \n",
       "      \n",
       "      \n",
       "      \n",
       "      \n",
       "      \n",
       "      \n",
       "    \n",
       "    \n",
       "      \n",
       "      \n",
       "      \n",
       "      \n",
       "      \n",
       "      \n",
       "    \n",
       "    \n",
       "      \n",
       "      \n",
       "      \n",
       "      \n",
       "      \n",
       "      \n",
       "    \n",
       "    \n",
       "      \n",
       "      \n",
       "      \n",
       "      \n",
       "      \n",
       "      \n",
       "    \n",
       "    \n",
       "      \n",
       "      \n",
       "      \n",
       "      \n",
       "      \n",
       "      \n",
       "    \n",
       "  \n",
       "<table border="\&quot;1\&quot;" class="\&quot;dataframe\&quot;"><thead><tr style="\&quot;text-align:" right;\"=""><th></th><th>profile</th><th>gender</th><th>birthday</th><th>favorites_anime</th><th>link</th></tr></thead><tbody><tr><th>0</th><td>DesolatePsyche</td><td>Male</td><td>Oct 2, 1994</td><td>['33352',
 '25013', '5530', '33674', '1482', '269', '18245', '2904', '27899', 
'17074', '12291', '226', '28851', '8525', '6594', '4981', '1698', '457',
 '235', '34618']</td><td>https://myanimelist.net/profile/DesolatePsyche</td></tr><tr><th>1</th><td>baekbeans</td><td>Female</td><td>Nov 10, 2000</td><td>['11061', '31964', '853', '20583', '918', '9253', '34599', '3588', '13601', '6956']</td><td>https://myanimelist.net/profile/baekbeans</td></tr><tr><th>2</th><td>skrn</td><td>NaN</td><td>NaN</td><td>['918', '2904', '11741', '17074', '23273', '32281', '9989', '1943', '512']</td><td>https://myanimelist.net/profile/skrn</td></tr><tr><th>3</th><td>edgewalker00</td><td>Male</td><td>Sep 5</td><td>['5680', '849', '2904', '3588', '37349']</td><td>https://myanimelist.net/profile/edgewalker00</td></tr><tr><th>4</th><td>aManOfCulture99</td><td>Male</td><td>Oct 30, 1999</td><td>['4181', '7791', '9617', '5680', '2167', '4382', '849', '235', '35180', '31646']</td><td>https://myanimelist.net/profile/aManOfCulture99</td></tr><tr><th>...</th><td>...</td><td>...</td><td>...</td><td>...</td><td>...</td></tr><tr><th>81722</th><td>lovelessxd</td><td>Female</td><td>Aug 6, 1992</td><td>['853', '5114']</td><td>https://myanimelist.net/profile/lovelessxd</td></tr><tr><th>81723</th><td>Shattered_Angel</td><td>Female</td><td>Sep 6, 1994</td><td>['150', '27', '1520', '121', '31452', '32995', '877', '14713', '129', '11111']</td><td>https://myanimelist.net/profile/Shattered_Angel</td></tr><tr><th>81724</th><td>FluffyWalrus</td><td>Male</td><td>NaN</td><td>['121', '43', '237', '202', '205']</td><td>https://myanimelist.net/profile/FluffyWalrus</td></tr><tr><th>81725</th><td>camco</td><td>Female</td><td>Sep 23</td><td>['199', '4224', '7054', '13601', '14713']</td><td>https://myanimelist.net/profile/camco</td></tr><tr><th>81726</th><td>nyja-chan</td><td>Female</td><td>Nov 13</td><td>['39195', '38000', '440', '457', '34599', '2251', '37779', '13125', '35180', '10721']</td><td>https://myanimelist.net/profile/nyja-chan</td></tr></tbody></table>\n",
       "<p>81727 rows × 5 columns</p>\n",
       "</div>"
      ],
      "text/plain": [
       "               profile  gender      birthday  \\\n",
       "0       DesolatePsyche    Male   Oct 2, 1994   \n",
       "1            baekbeans  Female  Nov 10, 2000   \n",
       "2                 skrn     NaN           NaN   \n",
       "3         edgewalker00    Male         Sep 5   \n",
       "4      aManOfCulture99    Male  Oct 30, 1999   \n",
       "...                ...     ...           ...   \n",
       "81722       lovelessxd  Female   Aug 6, 1992   \n",
       "81723  Shattered_Angel  Female   Sep 6, 1994   \n",
       "81724     FluffyWalrus    Male           NaN   \n",
       "81725            camco  Female        Sep 23   \n",
       "81726        nyja-chan  Female        Nov 13   \n",
       "\n",
       "                                                                
                                                                        
                     favorites_anime  \\\n",
       "0      ['33352', '25013', '5530', '33674', '1482', '269', 
'18245', '2904', '27899', '17074', '12291', '226', '28851', '8525', 
'6594', '4981', '1698', '457', '235', '34618']   \n",
       "1                                                               
                         ['11061', '31964', '853', '20583', '918', 
'9253', '34599', '3588', '13601', '6956']   \n",
       "2                                                               
                                  ['918', '2904', '11741', '17074', 
'23273', '32281', '9989', '1943', '512']   \n",
       "3                                                               
                                                                    
['5680', '849', '2904', '3588', '37349']   \n",
       "4                                                               
                            ['4181', '7791', '9617', '5680', '2167', 
'4382', '849', '235', '35180', '31646']   \n",
       "...                                                             
                                                                        
                                 ...   \n",
       "81722                                                           
                                                                        
                     ['853', '5114']   \n",
       "81723                                                           
                              ['150', '27', '1520', '121', '31452', 
'32995', '877', '14713', '129', '11111']   \n",
       "81724                                                           
                                                                        
  ['121', '43', '237', '202', '205']   \n",
       "81725                                                           
                                                                   
['199', '4224', '7054', '13601', '14713']   \n",
       "81726                                                           
                       ['39195', '38000', '440', '457', '34599', '2251',
 '37779', '13125', '35180', '10721']   \n",
       "\n",
       "                                                  link  \n",
       "0       https://myanimelist.net/profile/DesolatePsyche  \n",
       "1            https://myanimelist.net/profile/baekbeans  \n",
       "2                 https://myanimelist.net/profile/skrn  \n",
       "3         https://myanimelist.net/profile/edgewalker00  \n",
       "4      https://myanimelist.net/profile/aManOfCulture99  \n",
       "...                                                ...  \n",
       "81722       https://myanimelist.net/profile/lovelessxd  \n",
       "81723  https://myanimelist.net/profile/Shattered_Angel  \n",
       "81724     https://myanimelist.net/profile/FluffyWalrus  \n",
       "81725            https://myanimelist.net/profile/camco  \n",
       "81726        https://myanimelist.net/profile/nyja-chan  \n",
       "\n",
       "[81727 rows x 5 columns]"
      ]
     },
     "execution_count": 11,
     "metadata": {},
     "output_type": "execute_result"
    }
   ],
   "source": [
    "users = pd.read_csv(\"AnimeReviews/profiles.csv\"); users"
   ]
  },
  {
   "cell_type": "code",
   "execution_count": 7,
   "metadata": {
    "collapsed": true,
    "jupyter": {
     "outputs_hidden": true
    },
    "tags": []
   },
   "outputs": [
    {
     "data": {
      "text/html": [
       "<div>\n",
       "<style scoped="">\n",
       "    .dataframe tbody tr th:only-of-type {\n",
       "        vertical-align: middle;\n",
       "    }\n",
       "\n",
       "    .dataframe tbody tr th {\n",
       "        vertical-align: top;\n",
       "    }\n",
       "\n",
       "    .dataframe thead th {\n",
       "        text-align: right;\n",
       "    }\n",
       "</style>\n",
       "\n",
       "  \n",
       "    \n",
       "      \n",
       "      \n",
       "      \n",
       "      \n",
       "      \n",
       "      \n",
       "      \n",
       "      \n",
       "    \n",
       "  \n",
       "  \n",
       "    \n",
       "      \n",
       "      \n",
       "      \n",
       "      \n",
       "      \n",
       "      \n",
       "      \n",
       "      \n",
       "    \n",
       "    \n",
       "      \n",
       "      \n",
       "      \n",
       "      \n",
       "      \n",
       "      \n",
       "      \n",
       "      \n",
       "    \n",
       "    \n",
       "      \n",
       "      \n",
       "      \n",
       "      \n",
       "      \n",
       "      \n",
       "      \n",
       "      \n",
       "    \n",
       "    \n",
       "      \n",
       "      \n",
       "      \n",
       "      \n",
       "      \n",
       "      \n",
       "      \n",
       "      \n",
       "    \n",
       "    \n",
       "      \n",
       "      \n",
       "      \n",
       "      \n",
       "      \n",
       "      \n",
       "      \n",
       "      \n",
       "    \n",
       "    \n",
       "      \n",
       "      \n",
       "      \n",
       "      \n",
       "      \n",
       "      \n",
       "      \n",
       "      \n",
       "    \n",
       "    \n",
       "      \n",
       "      \n",
       "      \n",
       "      \n",
       "      \n",
       "      \n",
       "      \n",
       "      \n",
       "    \n",
       "    \n",
       "      \n",
       "      \n",
       "      \n",
       "      \n",
       "      \n",
       "      \n",
       "      \n",
       "      \n",
       "    \n",
       "    \n",
       "      \n",
       "      \n",
       "      \n",
       "      \n",
       "      \n",
       "      \n",
       "      \n",
       "      \n",
       "    \n",
       "    \n",
       "      \n",
       "      \n",
       "      \n",
       "      \n",
       "      \n",
       "      \n",
       "      \n",
       "      \n",
       "    \n",
       "    \n",
       "      \n",
       "      \n",
       "      \n",
       "      \n",
       "      \n",
       "      \n",
       "      \n",
       "      \n",
       "    \n",
       "  \n",
       "<table border="\&quot;1\&quot;" class="\&quot;dataframe\&quot;"><thead><tr style="\&quot;text-align:" right;\"=""><th></th><th>uid</th><th>profile</th><th>anime_uid</th><th>text</th><th>score</th><th>scores</th><th>link</th></tr></thead><tbody><tr><th>0</th><td>255938</td><td>DesolatePsyche</td><td>34096</td><td>\
\n           \\n         \\n           \\n             \\n           \\n
         \\n         \\n           more pics \\n         \\n       \\n  
       \\n       \\n         \\n           Overall \\n           8 \\n  
       \\n         \\n           Story \\n           8 \\n         \\n  
                 \\n             Animation \\n             8 \\n        
   \\n           \\n             Sound \\n             10 \\n           
\\n                 \\n           Character \\n           9 \\n         
\\n         \\n           Enjoyment \\n           8 \\n         \\n     
  \\n     \\n\\n                    \\n    First things firs...</td><td>8</td><td>{'Overall': '8', 'Story': '8', 'Animation': '8', 'Sound': '10', 'Character': '9', 'Enjoyment': '8'}</td><td>https://myanimelist.net/reviews.php?id=255938</td></tr><tr><th>1</th><td>259117</td><td>baekbeans</td><td>34599</td><td>\
\n           \\n         \\n           \\n             \\n           \\n
         \\n         \\n           more pics \\n         \\n       \\n  
       \\n       \\n         \\n           Overall \\n           10 \\n 
        \\n         \\n           Story \\n           10 \\n         \\n
                   \\n             Animation \\n             10 \\n     
      \\n           \\n             Sound \\n             10 \\n        
   \\n                 \\n           Character \\n           10 \\n     
    \\n         \\n           Enjoyment \\n           10 \\n         \\n
       \\n     \\n\\n                    \\n    Let me start...</td><td>10</td><td>{'Overall': '10', 'Story': '10', 'Animation': '10', 'Sound': '10', 'Character': '10', 'Enjoyment': '10'}</td><td>https://myanimelist.net/reviews.php?id=259117</td></tr><tr><th>2</th><td>253664</td><td>skrn</td><td>28891</td><td>\
\n           \\n         \\n           \\n             \\n           \\n
         \\n         \\n           more pics \\n         \\n       \\n  
       \\n       \\n         \\n           Overall \\n           7 \\n  
       \\n         \\n           Story \\n           7 \\n         \\n  
                 \\n             Animation \\n             9 \\n        
   \\n           \\n             Sound \\n             8 \\n           
\\n                 \\n           Character \\n           8 \\n         
\\n         \\n           Enjoyment \\n           8 \\n         \\n     
  \\n     \\n\\n                    \\n    Art 9/10: It is gr...</td><td>7</td><td>{'Overall': '7', 'Story': '7', 'Animation': '9', 'Sound': '8', 'Character': '8', 'Enjoyment': '8'}</td><td>https://myanimelist.net/reviews.php?id=253664</td></tr><tr><th>3</th><td>8254</td><td>edgewalker00</td><td>2904</td><td>\
\n           \\n         \\n           \\n             \\n           \\n
         \\n         \\n           more pics \\n         \\n       \\n  
       \\n       \\n         \\n           Overall \\n           9 \\n  
       \\n         \\n           Story \\n           9 \\n         \\n  
                 \\n             Animation \\n             9 \\n        
   \\n           \\n             Sound \\n             10 \\n           
\\n                 \\n           Character \\n           10 \\n        
 \\n         \\n           Enjoyment \\n           9 \\n         \\n    
   \\n     \\n\\n                    \\n    Story \\r\\n \\r\\nt...</td><td>9</td><td>{'Overall': '9', 'Story': '9', 'Animation': '9', 'Sound': '10', 'Character': '10', 'Enjoyment': '9'}</td><td>https://myanimelist.net/reviews.php?id=8254</td></tr><tr><th>4</th><td>291149</td><td>aManOfCulture99</td><td>4181</td><td>\
\n           \\n         \\n           \\n             \\n           \\n
         \\n         \\n           more pics \\n         \\n       \\n  
       \\n       \\n         \\n           Overall \\n           10 \\n 
        \\n         \\n           Story \\n           10 \\n         \\n
                   \\n             Animation \\n             8 \\n      
     \\n           \\n             Sound \\n             9 \\n          
 \\n                 \\n           Character \\n           10 \\n       
  \\n         \\n           Enjoyment \\n           10 \\n         \\n  
     \\n     \\n\\n                    \\n    Kyoto Animatio...</td><td>10</td><td>{'Overall': '10', 'Story': '10', 'Animation': '8', 'Sound': '9', 'Character': '10', 'Enjoyment': '10'}</td><td>https://myanimelist.net/reviews.php?id=291149</td></tr><tr><th>...</th><td>...</td><td>...</td><td>...</td><td>...</td><td>...</td><td>...</td><td>...</td></tr><tr><th>192107</th><td>240067</td><td>Unicorn819</td><td>1281</td><td>\
\n           \\n         \\n           \\n             \\n           \\n
         \\n         \\n           more pics \\n         \\n       \\n  
       \\n       \\n         \\n           Overall \\n           9 \\n  
       \\n         \\n           Story \\n           5 \\n         \\n  
                 \\n             Animation \\n             10 \\n       
    \\n           \\n             Sound \\n             10 \\n          
 \\n                 \\n           Character \\n           9 \\n        
 \\n         \\n           Enjoyment \\n           9 \\n         \\n    
   \\n     \\n\\n                    \\n    Ok, this anime i...</td><td>9</td><td>{'Overall': '9', 'Story': '5', 'Animation': '10', 'Sound': '10', 'Character': '9', 'Enjoyment': '9'}</td><td>https://myanimelist.net/reviews.php?id=240067</td></tr><tr><th>192108</th><td>285777</td><td>ShizzoSVH</td><td>1281</td><td>\
\n           \\n         \\n           \\n             \\n           \\n
         \\n         \\n           more pics \\n         \\n       \\n  
       \\n       \\n         \\n           Overall \\n           9 \\n  
       \\n         \\n           Story \\n           7 \\n         \\n  
                 \\n             Animation \\n             9 \\n        
   \\n           \\n             Sound \\n             9 \\n           
\\n                 \\n           Character \\n           9 \\n         
\\n         \\n           Enjoyment \\n           10 \\n         \\n    
   \\n     \\n\\n                    \\n    The dub for this ...</td><td>9</td><td>{'Overall': '9', 'Story': '7', 'Animation': '9', 'Sound': '9', 'Character': '9', 'Enjoyment': '10'}</td><td>https://myanimelist.net/reviews.php?id=285777</td></tr><tr><th>192109</th><td>286904</td><td>AlluMan96</td><td>1281</td><td>\
\n           \\n         \\n           \\n             \\n           \\n
         \\n         \\n           more pics \\n         \\n       \\n  
       \\n       \\n         \\n           Overall \\n           3 \\n  
       \\n         \\n           Story \\n           3 \\n         \\n  
                 \\n             Animation \\n             1 \\n        
   \\n           \\n             Sound \\n             2 \\n           
\\n                 \\n           Character \\n           2 \\n         
\\n         \\n           Enjoyment \\n           5 \\n         \\n     
  \\n     \\n\\n                    \\n    Some might argue t...</td><td>3</td><td>{'Overall': '3', 'Story': '3', 'Animation': '1', 'Sound': '2', 'Character': '2', 'Enjoyment': '5'}</td><td>https://myanimelist.net/reviews.php?id=286904</td></tr><tr><th>192110</th><td>287903</td><td>AgentK300</td><td>1281</td><td>\
\n           \\n         \\n           \\n             \\n           \\n
         \\n         \\n           more pics \\n         \\n       \\n  
       \\n       \\n         \\n           Overall \\n           10 \\n 
        \\n         \\n           Story \\n           3 \\n         \\n 
                  \\n             Animation \\n             3 \\n       
    \\n           \\n             Sound \\n             3 \\n           
\\n                 \\n           Character \\n           3 \\n         
\\n         \\n           Enjoyment \\n           10 \\n         \\n    
   \\n     \\n\\n                    \\n    Absolutely hilar...</td><td>10</td><td>{'Overall': '10', 'Story': '3', 'Animation': '3', 'Sound': '3', 'Character': '3', 'Enjoyment': '10'}</td><td>https://myanimelist.net/reviews.php?id=287903</td></tr><tr><th>192111</th><td>299323</td><td>Scarlet012</td><td>1281</td><td>\
\n           \\n         \\n           \\n             \\n           \\n
         \\n         \\n           more pics \\n         \\n       \\n  
       \\n       \\n         \\n           Overall \\n           9 \\n  
       \\n         \\n           Story \\n           7 \\n         \\n  
                 \\n             Animation \\n             8 \\n        
   \\n           \\n             Sound \\n             5 \\n           
\\n                 \\n           Character \\n           10 \\n        
 \\n         \\n           Enjoyment \\n           9 \\n         \\n    
   \\n     \\n\\n                    \\n    This will be a re...</td><td>9</td><td>{'Overall': '9', 'Story': '7', 'Animation': '8', 'Sound': '5', 'Character': '10', 'Enjoyment': '9'}</td><td>https://myanimelist.net/reviews.php?id=299323</td></tr></tbody></table>\n",
       "<p>192112 rows × 7 columns</p>\n",
       "</div>"
      ],
      "text/plain": [
       "           uid          profile  anime_uid  \\\n",
       "0       255938   DesolatePsyche      34096   \n",
       "1       259117        baekbeans      34599   \n",
       "2       253664             skrn      28891   \n",
       "3         8254     edgewalker00       2904   \n",
       "4       291149  aManOfCulture99       4181   \n",
       "...        ...              ...        ...   \n",
       "192107  240067       Unicorn819       1281   \n",
       "192108  285777        ShizzoSVH       1281   \n",
       "192109  286904        AlluMan96       1281   \n",
       "192110  287903        AgentK300       1281   \n",
       "192111  299323       Scarlet012       1281   \n",
       "\n",
       "                                                                
                                                                        
                                                                        
                                                                        
                                                                        
                                                                        
                                                                        
                                                                        
                                   text  \\\n",
       "0       \\n           \\n         \\n           \\n             
\\n           \\n         \\n         \\n           more pics \\n       
  \\n       \\n         \\n       \\n         \\n           Overall \\n 
          8 \\n         \\n         \\n           Story \\n           8 
\\n         \\n                   \\n             Animation \\n         
    8 \\n           \\n           \\n             Sound \\n             
10 \\n           \\n                 \\n           Character \\n        
   9 \\n         \\n         \\n           Enjoyment \\n           8 \\n
         \\n       \\n     \\n\\n                    \\n    First things
 firs...   \n",
       "1       \\n           \\n         \\n           \\n             
\\n           \\n         \\n         \\n           more pics \\n       
  \\n       \\n         \\n       \\n         \\n           Overall \\n 
          10 \\n         \\n         \\n           Story \\n           
10 \\n         \\n                   \\n             Animation \\n      
       10 \\n           \\n           \\n             Sound \\n         
    10 \\n           \\n                 \\n           Character \\n    
       10 \\n         \\n         \\n           Enjoyment \\n           
10 \\n         \\n       \\n     \\n\\n                    \\n    Let me
 start...   \n",
       "2       \\n           \\n         \\n           \\n             
\\n           \\n         \\n         \\n           more pics \\n       
  \\n       \\n         \\n       \\n         \\n           Overall \\n 
          7 \\n         \\n         \\n           Story \\n           7 
\\n         \\n                   \\n             Animation \\n         
    9 \\n           \\n           \\n             Sound \\n             8
 \\n           \\n                 \\n           Character \\n          
 8 \\n         \\n         \\n           Enjoyment \\n           8 \\n  
       \\n       \\n     \\n\\n                    \\n    Art 9/10: It 
is gr...   \n",
       "3       \\n           \\n         \\n           \\n             
\\n           \\n         \\n         \\n           more pics \\n       
  \\n       \\n         \\n       \\n         \\n           Overall \\n 
          9 \\n         \\n         \\n           Story \\n           9 
\\n         \\n                   \\n             Animation \\n         
    9 \\n           \\n           \\n             Sound \\n             
10 \\n           \\n                 \\n           Character \\n        
   10 \\n         \\n         \\n           Enjoyment \\n           9 
\\n         \\n       \\n     \\n\\n                    \\n    Story 
\\r\\n \\r\\nt...   \n",
       "4       \\n           \\n         \\n           \\n             
\\n           \\n         \\n         \\n           more pics \\n       
  \\n       \\n         \\n       \\n         \\n           Overall \\n 
          10 \\n         \\n         \\n           Story \\n           
10 \\n         \\n                   \\n             Animation \\n      
       8 \\n           \\n           \\n             Sound \\n          
   9 \\n           \\n                 \\n           Character \\n      
     10 \\n         \\n         \\n           Enjoyment \\n           10
 \\n         \\n       \\n     \\n\\n                    \\n    Kyoto 
Animatio...   \n",
       "...                                                             
                                                                        
                                                                        
                                                                        
                                                                        
                                                                        
                                                                        
                                                                        
                                    ...   \n",
       "192107  \\n           \\n         \\n           \\n             
\\n           \\n         \\n         \\n           more pics \\n       
  \\n       \\n         \\n       \\n         \\n           Overall \\n 
          9 \\n         \\n         \\n           Story \\n           5 
\\n         \\n                   \\n             Animation \\n         
    10 \\n           \\n           \\n             Sound \\n            
 10 \\n           \\n                 \\n           Character \\n       
    9 \\n         \\n         \\n           Enjoyment \\n           9 
\\n         \\n       \\n     \\n\\n                    \\n    Ok, this 
anime i...   \n",
       "192108  \\n           \\n         \\n           \\n             
\\n           \\n         \\n         \\n           more pics \\n       
  \\n       \\n         \\n       \\n         \\n           Overall \\n 
          9 \\n         \\n         \\n           Story \\n           7 
\\n         \\n                   \\n             Animation \\n         
    9 \\n           \\n           \\n             Sound \\n             9
 \\n           \\n                 \\n           Character \\n          
 9 \\n         \\n         \\n           Enjoyment \\n           10 \\n 
        \\n       \\n     \\n\\n                    \\n    The dub for 
this ...   \n",
       "192109  \\n           \\n         \\n           \\n             
\\n           \\n         \\n         \\n           more pics \\n       
  \\n       \\n         \\n       \\n         \\n           Overall \\n 
          3 \\n         \\n         \\n           Story \\n           3 
\\n         \\n                   \\n             Animation \\n         
    1 \\n           \\n           \\n             Sound \\n             2
 \\n           \\n                 \\n           Character \\n          
 2 \\n         \\n         \\n           Enjoyment \\n           5 \\n  
       \\n       \\n     \\n\\n                    \\n    Some might 
argue t...   \n",
       "192110  \\n           \\n         \\n           \\n             
\\n           \\n         \\n         \\n           more pics \\n       
  \\n       \\n         \\n       \\n         \\n           Overall \\n 
          10 \\n         \\n         \\n           Story \\n           3
 \\n         \\n                   \\n             Animation \\n        
     3 \\n           \\n           \\n             Sound \\n            
 3 \\n           \\n                 \\n           Character \\n        
   3 \\n         \\n         \\n           Enjoyment \\n           10 
\\n         \\n       \\n     \\n\\n                    \\n    
Absolutely hilar...   \n",
       "192111  \\n           \\n         \\n           \\n             
\\n           \\n         \\n         \\n           more pics \\n       
  \\n       \\n         \\n       \\n         \\n           Overall \\n 
          9 \\n         \\n         \\n           Story \\n           7 
\\n         \\n                   \\n             Animation \\n         
    8 \\n           \\n           \\n             Sound \\n             5
 \\n           \\n                 \\n           Character \\n          
 10 \\n         \\n         \\n           Enjoyment \\n           9 \\n 
        \\n       \\n     \\n\\n                    \\n    This will be a
 re...   \n",
       "\n",
       "        score  \\\n",
       "0           8   \n",
       "1          10   \n",
       "2           7   \n",
       "3           9   \n",
       "4          10   \n",
       "...       ...   \n",
       "192107      9   \n",
       "192108      9   \n",
       "192109      3   \n",
       "192110     10   \n",
       "192111      9   \n",
       "\n",
       "                                                                
                                          scores  \\\n",
       "0            {'Overall': '8', 'Story': '8', 'Animation': '8', 
'Sound': '10', 'Character': '9', 'Enjoyment': '8'}   \n",
       "1       {'Overall': '10', 'Story': '10', 'Animation': '10', 
'Sound': '10', 'Character': '10', 'Enjoyment': '10'}   \n",
       "2             {'Overall': '7', 'Story': '7', 'Animation': '9', 
'Sound': '8', 'Character': '8', 'Enjoyment': '8'}   \n",
       "3           {'Overall': '9', 'Story': '9', 'Animation': '9', 
'Sound': '10', 'Character': '10', 'Enjoyment': '9'}   \n",
       "4         {'Overall': '10', 'Story': '10', 'Animation': '8', 
'Sound': '9', 'Character': '10', 'Enjoyment': '10'}   \n",
       "...                                                             
                                             ...   \n",
       "192107      {'Overall': '9', 'Story': '5', 'Animation': '10', 
'Sound': '10', 'Character': '9', 'Enjoyment': '9'}   \n",
       "192108       {'Overall': '9', 'Story': '7', 'Animation': '9', 
'Sound': '9', 'Character': '9', 'Enjoyment': '10'}   \n",
       "192109        {'Overall': '3', 'Story': '3', 'Animation': '1', 
'Sound': '2', 'Character': '2', 'Enjoyment': '5'}   \n",
       "192110      {'Overall': '10', 'Story': '3', 'Animation': '3', 
'Sound': '3', 'Character': '3', 'Enjoyment': '10'}   \n",
       "192111       {'Overall': '9', 'Story': '7', 'Animation': '8', 
'Sound': '5', 'Character': '10', 'Enjoyment': '9'}   \n",
       "\n",
       "                                                 link  \n",
       "0       https://myanimelist.net/reviews.php?id=255938  \n",
       "1       https://myanimelist.net/reviews.php?id=259117  \n",
       "2       https://myanimelist.net/reviews.php?id=253664  \n",
       "3         https://myanimelist.net/reviews.php?id=8254  \n",
       "4       https://myanimelist.net/reviews.php?id=291149  \n",
       "...                                               ...  \n",
       "192107  https://myanimelist.net/reviews.php?id=240067  \n",
       "192108  https://myanimelist.net/reviews.php?id=285777  \n",
       "192109  https://myanimelist.net/reviews.php?id=286904  \n",
       "192110  https://myanimelist.net/reviews.php?id=287903  \n",
       "192111  https://myanimelist.net/reviews.php?id=299323  \n",
       "\n",
       "[192112 rows x 7 columns]"
      ]
     },
     "execution_count": 7,
     "metadata": {},
     "output_type": "execute_result"
    }
   ],
   "source": [
    "ratings = pd.read_csv(\"AnimeReviews/reviews.csv\"); ratings"
   ]
  },
  {
   "cell_type": "code",
   "execution_count": 34,
   "metadata": {},
   "outputs": [
    {
     "data": {
      "text/plain": [
       "uid          255938\n",
       "anime_uid     34096\n",
       "score             8\n",
       "Name: 0, dtype: int64"
      ]
     },
     "execution_count": 34,
     "metadata": {},
     "output_type": "execute_result"
    }
   ],
   "source": [
    "ratings.iloc[0]"
   ]
  },
  {
   "cell_type": "code",
   "execution_count": 8,
   "metadata": {},
   "outputs": [
    {
     "data": {
      "text/plain": [
       "{0, 1, 2, 3, 4, 5, 6, 7, 8, 9, 10, 11}"
      ]
     },
     "execution_count": 8,
     "metadata": {},
     "output_type": "execute_result"
    }
   ],
   "source": [
    "set(ratings.score)"
   ]
  },
  {
   "cell_type": "code",
   "execution_count": 9,
   "metadata": {},
   "outputs": [
    {
     "data": {
      "text/plain": [
       "Index(['uid', 'title', 'synopsis', 'genre', 'aired', 'episodes',
 'members',\n",
       "       'popularity', 'ranked', 'score', 'img_url', 'link'],\n",
       "      dtype='object')"
      ]
     },
     "execution_count": 9,
     "metadata": {},
     "output_type": "execute_result"
    }
   ],
   "source": [
    "animes.columns"
   ]
  },
  {
   "cell_type": "code",
   "execution_count": 12,
   "metadata": {},
   "outputs": [
    {
     "data": {
      "text/plain": [
       "Index(['profile', 'gender', 'birthday', 'favorites_anime', 
'link'], dtype='object')"
      ]
     },
     "execution_count": 12,
     "metadata": {},
     "output_type": "execute_result"
    }
   ],
   "source": [
    "users.columns"
   ]
  },
  {
   "cell_type": "markdown",
   "metadata": {},
   "source": [
    "## Primer intento: SOLO usando los ratings de los usuarios!"
   ]
  },
  {
   "cell_type": "code",
   "execution_count": 13,
   "metadata": {},
   "outputs": [
    {
     "data": {
      "text/plain": [
       "Index(['uid', 'profile', 'anime_uid', 'text', 'score', 'scores',
 'link'], dtype='object')"
      ]
     },
     "execution_count": 13,
     "metadata": {},
     "output_type": "execute_result"
    }
   ],
   "source": [
    "ratings.columns"
   ]
  },
  {
   "cell_type": "code",
   "execution_count": 14,
   "metadata": {},
   "outputs": [],
   "source": [
    "ratings = ratings[['uid','anime_uid','score']]"
   ]
  },
  {
   "cell_type": "code",
   "execution_count": 15,
   "metadata": {},
   "outputs": [
    {
     "data": {
      "text/html": [
       "<div>\n",
       "<style scoped="">\n",
       "    .dataframe tbody tr th:only-of-type {\n",
       "        vertical-align: middle;\n",
       "    }\n",
       "\n",
       "    .dataframe tbody tr th {\n",
       "        vertical-align: top;\n",
       "    }\n",
       "\n",
       "    .dataframe thead th {\n",
       "        text-align: right;\n",
       "    }\n",
       "</style>\n",
       "\n",
       "  \n",
       "    \n",
       "      \n",
       "      \n",
       "      \n",
       "      \n",
       "    \n",
       "  \n",
       "  \n",
       "    \n",
       "      \n",
       "      \n",
       "      \n",
       "      \n",
       "    \n",
       "    \n",
       "      \n",
       "      \n",
       "      \n",
       "      \n",
       "    \n",
       "    \n",
       "      \n",
       "      \n",
       "      \n",
       "      \n",
       "    \n",
       "    \n",
       "      \n",
       "      \n",
       "      \n",
       "      \n",
       "    \n",
       "    \n",
       "      \n",
       "      \n",
       "      \n",
       "      \n",
       "    \n",
       "  \n",
       "<table border="\&quot;1\&quot;" class="\&quot;dataframe\&quot;"><thead><tr style="\&quot;text-align:" right;\"=""><th></th><th>uid</th><th>anime_uid</th><th>score</th></tr></thead><tbody><tr><th>0</th><td>255938</td><td>34096</td><td>8</td></tr><tr><th>1</th><td>259117</td><td>34599</td><td>10</td></tr><tr><th>2</th><td>253664</td><td>28891</td><td>7</td></tr><tr><th>3</th><td>8254</td><td>2904</td><td>9</td></tr><tr><th>4</th><td>291149</td><td>4181</td><td>10</td></tr></tbody></table>\n",
       "</div>"
      ],
      "text/plain": [
       "      uid  anime_uid  score\n",
       "0  255938      34096      8\n",
       "1  259117      34599     10\n",
       "2  253664      28891      7\n",
       "3    8254       2904      9\n",
       "4  291149       4181     10"
      ]
     },
     "execution_count": 15,
     "metadata": {},
     "output_type": "execute_result"
    }
   ],
   "source": [
    "ratings.head()"
   ]
  },
  {
   "cell_type": "code",
   "execution_count": 19,
   "metadata": {},
   "outputs": [],
   "source": [
    "dls = fc.CollabDataLoaders.from_df(ratings, user_name='uid', \n",
    "                                   item_name='anime_uid', \n",
    "                                   rating_name='score', bs=256)"
   ]
  },
  {
   "cell_type": "code",
   "execution_count": 20,
   "metadata": {},
   "outputs": [],
   "source": [
    "x,y=dls.one_batch()"
   ]
  },
  {
   "cell_type": "code",
   "execution_count": 24,
   "metadata": {
    "collapsed": true,
    "jupyter": {
     "outputs_hidden": true
    },
    "tags": []
   },
   "outputs": [
    {
     "data": {
      "text/plain": [
       "tensor([[ 8],\n",
       "        [ 4],\n",
       "        [10],\n",
       "        [ 8],\n",
       "        [10],\n",
       "        [ 8],\n",
       "        [10],\n",
       "        [ 7],\n",
       "        [10],\n",
       "        [10],\n",
       "        [ 1],\n",
       "        [ 7],\n",
       "        [10],\n",
       "        [ 9],\n",
       "        [ 9],\n",
       "        [10],\n",
       "        [ 7],\n",
       "        [ 9],\n",
       "        [10],\n",
       "        [10],\n",
       "        [ 2],\n",
       "        [10],\n",
       "        [ 8],\n",
       "        [ 1],\n",
       "        [ 4],\n",
       "        [ 6],\n",
       "        [10],\n",
       "        [10],\n",
       "        [ 3],\n",
       "        [ 4],\n",
       "        [ 8],\n",
       "        [ 8],\n",
       "        [10],\n",
       "        [ 5],\n",
       "        [ 6],\n",
       "        [ 6],\n",
       "        [ 6],\n",
       "        [10],\n",
       "        [10],\n",
       "        [ 9],\n",
       "        [ 7],\n",
       "        [ 8],\n",
       "        [ 7],\n",
       "        [ 6],\n",
       "        [ 9],\n",
       "        [10],\n",
       "        [ 8],\n",
       "        [ 9],\n",
       "        [ 4],\n",
       "        [ 9],\n",
       "        [10],\n",
       "        [ 9],\n",
       "        [ 9],\n",
       "        [10],\n",
       "        [ 5],\n",
       "        [ 9],\n",
       "        [ 9],\n",
       "        [ 7],\n",
       "        [ 5],\n",
       "        [10],\n",
       "        [ 8],\n",
       "        [ 8],\n",
       "        [10],\n",
       "        [ 9],\n",
       "        [ 6],\n",
       "        [ 3],\n",
       "        [ 8],\n",
       "        [ 6],\n",
       "        [ 9],\n",
       "        [ 7],\n",
       "        [ 6],\n",
       "        [ 9],\n",
       "        [ 9],\n",
       "        [ 5],\n",
       "        [ 8],\n",
       "        [10],\n",
       "        [ 7],\n",
       "        [ 9],\n",
       "        [ 7],\n",
       "        [ 9],\n",
       "        [ 9],\n",
       "        [ 8],\n",
       "        [10],\n",
       "        [ 9],\n",
       "        [ 7],\n",
       "        [10],\n",
       "        [10],\n",
       "        [ 8],\n",
       "        [ 7],\n",
       "        [ 5],\n",
       "        [ 9],\n",
       "        [ 8],\n",
       "        [ 6],\n",
       "        [ 8],\n",
       "        [ 7],\n",
       "        [ 9],\n",
       "        [ 9],\n",
       "        [10],\n",
       "        [ 3],\n",
       "        [10],\n",
       "        [10],\n",
       "        [ 6],\n",
       "        [ 9],\n",
       "        [ 1],\n",
       "        [ 6],\n",
       "        [ 9],\n",
       "        [ 7],\n",
       "        [10],\n",
       "        [ 8],\n",
       "        [ 9],\n",
       "        [ 7],\n",
       "        [ 7],\n",
       "        [ 6],\n",
       "        [ 8],\n",
       "        [10],\n",
       "        [ 1],\n",
       "        [ 4],\n",
       "        [ 9],\n",
       "        [ 9],\n",
       "        [ 5],\n",
       "        [ 8],\n",
       "        [ 8],\n",
       "        [ 5],\n",
       "        [ 3],\n",
       "        [ 8],\n",
       "        [ 9],\n",
       "        [10],\n",
       "        [10],\n",
       "        [10],\n",
       "        [ 5],\n",
       "        [ 3],\n",
       "        [ 8],\n",
       "        [ 6],\n",
       "        [10],\n",
       "        [ 9],\n",
       "        [ 9],\n",
       "        [ 4],\n",
       "        [ 9],\n",
       "        [ 8],\n",
       "        [10],\n",
       "        [ 5],\n",
       "        [ 5],\n",
       "        [ 8],\n",
       "        [ 5],\n",
       "        [10],\n",
       "        [ 8],\n",
       "        [ 6],\n",
       "        [ 7],\n",
       "        [ 6],\n",
       "        [ 7],\n",
       "        [ 3],\n",
       "        [ 9],\n",
       "        [ 9],\n",
       "        [10],\n",
       "        [ 2],\n",
       "        [ 7],\n",
       "        [ 9],\n",
       "        [ 8],\n",
       "        [ 4],\n",
       "        [ 6],\n",
       "        [ 2],\n",
       "        [10],\n",
       "        [ 6],\n",
       "        [10],\n",
       "        [ 7],\n",
       "        [ 8],\n",
       "        [ 8],\n",
       "        [ 9],\n",
       "        [ 8],\n",
       "        [10],\n",
       "        [10],\n",
       "        [ 8],\n",
       "        [ 7],\n",
       "        [10],\n",
       "        [ 7],\n",
       "        [10],\n",
       "        [ 9],\n",
       "        [10],\n",
       "        [ 9],\n",
       "        [ 8],\n",
       "        [ 9],\n",
       "        [ 7],\n",
       "        [ 5],\n",
       "        [ 5],\n",
       "        [ 9],\n",
       "        [ 8],\n",
       "        [ 8],\n",
       "        [10],\n",
       "        [10],\n",
       "        [10],\n",
       "        [ 8],\n",
       "        [ 9],\n",
       "        [10],\n",
       "        [10],\n",
       "        [ 8],\n",
       "        [10],\n",
       "        [ 4],\n",
       "        [ 9],\n",
       "        [ 9],\n",
       "        [ 9],\n",
       "        [ 8],\n",
       "        [ 9],\n",
       "        [10],\n",
       "        [ 9],\n",
       "        [ 9],\n",
       "        [ 7],\n",
       "        [ 8],\n",
       "        [ 9],\n",
       "        [10],\n",
       "        [ 6],\n",
       "        [ 5],\n",
       "        [10],\n",
       "        [10],\n",
       "        [ 4],\n",
       "        [ 9],\n",
       "        [ 1],\n",
       "        [ 5],\n",
       "        [10],\n",
       "        [ 9],\n",
       "        [ 8],\n",
       "        [ 7],\n",
       "        [ 9],\n",
       "        [ 8],\n",
       "        [ 7],\n",
       "        [10],\n",
       "        [10],\n",
       "        [ 2],\n",
       "        [ 9],\n",
       "        [ 1],\n",
       "        [ 7],\n",
       "        [10],\n",
       "        [10],\n",
       "        [ 9],\n",
       "        [ 8],\n",
       "        [10],\n",
       "        [ 3],\n",
       "        [10],\n",
       "        [ 6],\n",
       "        [10],\n",
       "        [ 8],\n",
       "        [10],\n",
       "        [ 8],\n",
       "        [10],\n",
       "        [ 7],\n",
       "        [ 5],\n",
       "        [ 8],\n",
       "        [ 5],\n",
       "        [ 8],\n",
       "        [ 7],\n",
       "        [ 7],\n",
       "        [ 4],\n",
       "        [ 9],\n",
       "        [ 9],\n",
       "        [ 9],\n",
       "        [ 9],\n",
       "        [10]], dtype=torch.int8)"
      ]
     },
     "execution_count": 24,
     "metadata": {},
     "output_type": "execute_result"
    }
   ],
   "source": [
    "y"
   ]
  },
  {
   "cell_type": "code",
   "execution_count": null,
   "metadata": {},
   "outputs": [],
   "source": [
    "y"
   ]
  },
  {
   "cell_type": "code",
   "execution_count": 25,
   "metadata": {},
   "outputs": [],
   "source": [
    "def flat_l1(yp,y):\n",
    "    return F.l1_loss(yp.view(-1),y.view(-1))"
   ]
  },
  {
   "cell_type": "markdown",
   "metadata": {},
   "source": [
    "# Collab Learner"
   ]
  },
  {
   "cell_type": "code",
   "execution_count": 27,
   "metadata": {},
   "outputs": [],
   "source": [
    "learn = fc.collab_learner(dls,opt_func=fc.ranger,metrics=flat_l1)"
   ]
  },
  {
   "cell_type": "code",
   "execution_count": 28,
   "metadata": {},
   "outputs": [
    {
     "data": {
      "text/plain": [
       "EmbeddingDotBias(\n",
       "  (u_weight): Embedding(114166, 50)\n",
       "  (i_weight): Embedding(7693, 50)\n",
       "  (u_bias): Embedding(114166, 1)\n",
       "  (i_bias): Embedding(7693, 1)\n",
       ")"
      ]
     },
     "execution_count": 28,
     "metadata": {},
     "output_type": "execute_result"
    }
   ],
   "source": [
    "learn.model"
   ]
  },
  {
   "cell_type": "code",
   "execution_count": 29,
   "metadata": {
    "collapsed": true,
    "jupyter": {
     "outputs_hidden": true
    },
    "tags": []
   },
   "outputs": [
    {
     "data": {
      "text/plain": [
       "\u001b[0;31mSignature:\u001b[0m 
\u001b[0mlearn\u001b[0m\u001b[0;34m.
\u001b[0m\u001b[0mmodel\u001b[0m\u001b[0;34m.
\u001b[0m\u001b[0mforward\u001b[0m\u001b[0;34m(\u001b[0m\u001b[0mx\u001b[0m\u001b[0;34m)\u001b[0m\u001b[0;34m\u001b[0m\u001b[0;34m\u001b[0m\u001b[0m\n",

       "\u001b[0;31mDocstring:\u001b[0m\n",
       "Defines the computation performed at every call.\n",
       "\n",
       "Should be overridden by all subclasses.\n",
       "\n",
       ".. note::\n",
       "    Although the recipe for forward pass needs to be defined 
within\n",
       "    this function, one should call the :class:`Module` instance 
afterwards\n",
       "    instead of this since the former takes care of running 
the\n",
       "    registered hooks while the latter silently ignores them.\n",
       "\u001b[0;31mSource:\u001b[0m   \n",
       "    \u001b[0;32mdef\u001b[0m 
\u001b[0mforward\u001b[0m\u001b[0;34m(\u001b[0m\u001b[0mself\u001b[0m\u001b[0;34m,
\u001b[0m 
\u001b[0mx\u001b[0m\u001b[0;34m)\u001b[0m\u001b[0;34m:
\u001b[0m\u001b[0;34m\u001b[0m\n",
       "\u001b[0;34m\u001b[0m        
\u001b[0musers\u001b[0m\u001b[0;34m,\u001b[0m\u001b[0mitems\u001b[0m 
\u001b[0;34m=\u001b[0m 
\u001b[0mx\u001b[0m\u001b[0;34m[\u001b[0m\u001b[0;34m:
\u001b[0m\u001b[0;34m,
\u001b[0m\u001b[0;36m0\u001b[0m\u001b[0;34m]\u001b[0m\u001b[0;34m,
\u001b[0m\u001b[0mx\u001b[0m\u001b[0;34m[\u001b[0m\u001b[0;34m:
\u001b[0m\u001b[0;34m,
\u001b[0m\u001b[0;36m1\u001b[0m\u001b[0;34m]\u001b[0m\u001b[0;34m\u001b[0m\n",

       "\u001b[0;34m\u001b[0m        \u001b[0mdot\u001b[0m 
\u001b[0;34m=\u001b[0m 
\u001b[0mself\u001b[0m\u001b[0;34m.
\u001b[0m\u001b[0mu_weight\u001b[0m\u001b[0;34m(\u001b[0m\u001b[0musers\u001b[0m\u001b[0;34m)\u001b[0m\u001b[0;34m*\u001b[0m
 
\u001b[0mself\u001b[0m\u001b[0;34m.
\u001b[0m\u001b[0mi_weight\u001b[0m\u001b[0;34m(\u001b[0m\u001b[0mitems\u001b[0m\u001b[0;34m)\u001b[0m\u001b[0;34m\u001b[0m\n",

       "\u001b[0;34m\u001b[0m        \u001b[0mres\u001b[0m 
\u001b[0;34m=\u001b[0m 
\u001b[0mdot\u001b[0m\u001b[0;34m.
\u001b[0m\u001b[0msum\u001b[0m\u001b[0;34m(\u001b[0m\u001b[0;36m1\u001b[0m\u001b[0;34m)\u001b[0m
 \u001b[0;34m+\u001b[0m 
\u001b[0mself\u001b[0m\u001b[0;34m.
\u001b[0m\u001b[0mu_bias\u001b[0m\u001b[0;34m(\u001b[0m\u001b[0musers\u001b[0m\u001b[0;34m)\u001b[0m\u001b[0;34m.
\u001b[0m\u001b[0msqueeze\u001b[0m\u001b[0;34m(\u001b[0m\u001b[0;34m)\u001b[0m
 \u001b[0;34m+\u001b[0m 
\u001b[0mself\u001b[0m\u001b[0;34m.
\u001b[0m\u001b[0mi_bias\u001b[0m\u001b[0;34m(\u001b[0m\u001b[0mitems\u001b[0m\u001b[0;34m)\u001b[0m\u001b[0;34m.
\u001b[0m\u001b[0msqueeze\u001b[0m\u001b[0;34m(\u001b[0m\u001b[0;34m)\u001b[0m\u001b[0;34m\u001b[0m\n",

       "\u001b[0;34m\u001b[0m        \u001b[0;32mif\u001b[0m 
\u001b[0mself\u001b[0m\u001b[0;34m.\u001b[0m\u001b[0my_range\u001b[0m 
\u001b[0;32mis\u001b[0m \u001b[0;32mNone\u001b[0m\u001b[0;34m:\u001b[0m 
\u001b[0;32mreturn\u001b[0m 
\u001b[0mres\u001b[0m\u001b[0;34m\u001b[0m\n",
       "\u001b[0;34m\u001b[0m        \u001b[0;32mreturn\u001b[0m 
\u001b[0mtorch\u001b[0m\u001b[0;34m.
\u001b[0m\u001b[0msigmoid\u001b[0m\u001b[0;34m(\u001b[0m\u001b[0mres\u001b[0m\u001b[0;34m)\u001b[0m
 \u001b[0;34m*\u001b[0m 
\u001b[0;34m(\u001b[0m\u001b[0mself\u001b[0m\u001b[0;34m.
\u001b[0m\u001b[0my_range\u001b[0m\u001b[0;34m[\u001b[0m\u001b[0;36m1\u001b[0m\u001b[0;34m]\u001b[0m\u001b[0;34m-
\u001b[0m\u001b[0mself\u001b[0m\u001b[0;34m.
\u001b[0m\u001b[0my_range\u001b[0m\u001b[0;34m[\u001b[0m\u001b[0;36m0\u001b[0m\u001b[0;34m]\u001b[0m\u001b[0;34m)\u001b[0m
 \u001b[0;34m+\u001b[0m 
\u001b[0mself\u001b[0m\u001b[0;34m.
\u001b[0m\u001b[0my_range\u001b[0m\u001b[0;34m[\u001b[0m\u001b[0;36m0\u001b[0m\u001b[0;34m]\u001b[0m\u001b[0;34m\u001b[0m\u001b[0;34m\u001b[0m\u001b[0m\n",

       "\u001b[0;31mFile:\u001b[0m      
~/anaconda3/envs/fastai/lib/python3.9/site-packages/fastai/collab.py\n",
       "\u001b[0;31mType:\u001b[0m      method\n"
      ]
     },
     "metadata": {},
     "output_type": "display_data"
    }
   ],
   "source": [
    "learn.model.forward??"
   ]
  },
  {
   "cell_type": "code",
   "execution_count": null,
   "metadata": {},
   "outputs": [],
   "source": [
    "learn.summary()"
   ]
  },
  {
   "cell_type": "code",
   "execution_count": null,
   "metadata": {},
   "outputs": [],
   "source": [
    "learn.model??"
   ]
  },
  {
   "cell_type": "code",
   "execution_count": null,
   "metadata": {},
   "outputs": [],
   "source": [
    "learn.lr_find()"
   ]
  },
  {
   "cell_type": "code",
   "execution_count": 30,
   "metadata": {},
   "outputs": [
    {
     "data": {
      "text/html": [
       "\n",
       "<style>\n",
       "    /* Turns off some styling */\n",
       "    progress {\n",
       "        /* gets rid of default border in Firefox and Opera. */\n",
       "        border: none;\n",
       "        /* Needs to be in here for Safari polyfill so background images work as expected. */\n",
       "        background-size: auto;\n",
       "    }\n",
       "    progress:not([value]), progress:not([value])::-webkit-progress-bar {\n",
       "        background: repeating-linear-gradient(45deg, #7e7e7e, #7e7e7e 10px, #5c5c5c 10px, #5c5c5c 20px);\n",
       "    }\n",
       "    .progress-bar-interrupted, .progress-bar-interrupted::-webkit-progress-bar {\n",
       "        background: #F44336;\n",
       "    }\n",
       "</style>\n"
      ],
      "text/plain": [
       "<ipython.core.display.html object="">"
      ]
     },
     "metadata": {},
     "output_type": "display_data"
    },
    {
     "data": {
      "text/html": [
       "\n",
       "  \n",
       "    \n",
       "      \n",
       "      \n",
       "      \n",
       "      \n",
       "      \n",
       "    \n",
       "  \n",
       "  \n",
       "    \n",
       "      \n",
       "      \n",
       "      \n",
       "      \n",
       "      \n",
       "    \n",
       "    \n",
       "      \n",
       "      \n",
       "      \n",
       "      \n",
       "      \n",
       "    \n",
       "    \n",
       "      \n",
       "      \n",
       "      \n",
       "      \n",
       "      \n",
       "    \n",
       "    \n",
       "      \n",
       "      \n",
       "      \n",
       "      \n",
       "      \n",
       "    \n",
       "    \n",
       "      \n",
       "      \n",
       "      \n",
       "      \n",
       "      \n",
       "    \n",
       "    \n",
       "      \n",
       "      \n",
       "      \n",
       "      \n",
       "      \n",
       "    \n",
       "    \n",
       "      \n",
       "      \n",
       "      \n",
       "      \n",
       "      \n",
       "    \n",
       "    \n",
       "      \n",
       "      \n",
       "      \n",
       "      \n",
       "      \n",
       "    \n",
       "    \n",
       "      \n",
       "      \n",
       "      \n",
       "      \n",
       "      \n",
       "    \n",
       "    \n",
       "      \n",
       "      \n",
       "      \n",
       "      \n",
       "      \n",
       "    \n",
       "    \n",
       "      \n",
       "      \n",
       "      \n",
       "      \n",
       "      \n",
       "    \n",
       "    \n",
       "      \n",
       "      \n",
       "      \n",
       "      \n",
       "      \n",
       "    \n",
       "    \n",
       "      \n",
       "      \n",
       "      \n",
       "      \n",
       "      \n",
       "    \n",
       "    \n",
       "      \n",
       "      \n",
       "      \n",
       "      \n",
       "      \n",
       "    \n",
       "    \n",
       "      \n",
       "      \n",
       "      \n",
       "      \n",
       "      \n",
       "    \n",
       "    \n",
       "      \n",
       "      \n",
       "      \n",
       "      \n",
       "      \n",
       "    \n",
       "    \n",
       "      \n",
       "      \n",
       "      \n",
       "      \n",
       "      \n",
       "    \n",
       "    \n",
       "      \n",
       "      \n",
       "      \n",
       "      \n",
       "      \n",
       "    \n",
       "    \n",
       "      \n",
       "      \n",
       "      \n",
       "      \n",
       "      \n",
       "    \n",
       "    \n",
       "      \n",
       "      \n",
       "      \n",
       "      \n",
       "      \n",
       "    \n",
       "  \n",
       "<table border="\&quot;1\&quot;" class="\&quot;dataframe\&quot;"><thead><tr style="\&quot;text-align:" left;\"=""><th>epoch</th><th>train_loss</th><th>valid_loss</th><th>flat_l1</th><th>time</th></tr></thead><tbody><tr><td>0</td><td>22.815174</td><td>20.904486</td><td>3.752865</td><td>00:03</td></tr><tr><td>1</td><td>8.057270</td><td>14.350418</td><td>2.935636</td><td>00:03</td></tr><tr><td>2</td><td>3.378974</td><td>13.418276</td><td>2.871163</td><td>00:03</td></tr><tr><td>3</td><td>2.740188</td><td>11.837729</td><td>2.593863</td><td>00:03</td></tr><tr><td>4</td><td>2.269117</td><td>11.051291</td><td>2.453663</td><td>00:03</td></tr><tr><td>5</td><td>2.027517</td><td>10.565471</td><td>2.369149</td><td>00:03</td></tr><tr><td>6</td><td>1.885337</td><td>10.138118</td><td>2.302900</td><td>00:03</td></tr><tr><td>7</td><td>1.832730</td><td>9.840270</td><td>2.254473</td><td>00:03</td></tr><tr><td>8</td><td>1.652656</td><td>9.661456</td><td>2.221639</td><td>00:03</td></tr><tr><td>9</td><td>1.648860</td><td>9.446268</td><td>2.181549</td><td>00:03</td></tr><tr><td>10</td><td>1.626407</td><td>9.323123</td><td>2.166235</td><td>00:03</td></tr><tr><td>11</td><td>1.602999</td><td>9.191519</td><td>2.143574</td><td>00:03</td></tr><tr><td>12</td><td>1.535235</td><td>9.090778</td><td>2.125692</td><td>00:03</td></tr><tr><td>13</td><td>1.541712</td><td>9.013030</td><td>2.109246</td><td>00:03</td></tr><tr><td>14</td><td>1.477563</td><td>8.909767</td><td>2.092057</td><td>00:03</td></tr><tr><td>15</td><td>1.257775</td><td>8.741158</td><td>2.028335</td><td>00:03</td></tr><tr><td>16</td><td>0.856215</td><td>8.557468</td><td>1.942185</td><td>00:03</td></tr><tr><td>17</td><td>0.437753</td><td>8.480929</td><td>1.856406</td><td>00:03</td></tr><tr><td>18</td><td>0.155787</td><td>8.458506</td><td>1.795793</td><td>00:03</td></tr><tr><td>19</td><td>0.051660</td><td>8.458207</td><td>1.781503</td><td>00:03</td></tr></tbody></table>"
      ],
      "text/plain": [
       "<ipython.core.display.html object="">"
      ]
     },
     "metadata": {},
     "output_type": "display_data"
    }
   ],
   "source": [
    "learn.fit_one_cycle(20,3e-2,div=1,pct_start=0.7)"
   ]
  },
  {
   "cell_type": "code",
   "execution_count": 31,
   "metadata": {},
   "outputs": [],
   "source": [
    "learn = fc.collab_learner(dls,opt_func=fc.ranger,n_factors=20,metrics=flat_l1)"
   ]
  },
  {
   "cell_type": "code",
   "execution_count": 32,
   "metadata": {},
   "outputs": [
    {
     "data": {
      "text/html": [
       "\n",
       "<style>\n",
       "    /* Turns off some styling */\n",
       "    progress {\n",
       "        /* gets rid of default border in Firefox and Opera. */\n",
       "        border: none;\n",
       "        /* Needs to be in here for Safari polyfill so background images work as expected. */\n",
       "        background-size: auto;\n",
       "    }\n",
       "    progress:not([value]), progress:not([value])::-webkit-progress-bar {\n",
       "        background: repeating-linear-gradient(45deg, #7e7e7e, #7e7e7e 10px, #5c5c5c 10px, #5c5c5c 20px);\n",
       "    }\n",
       "    .progress-bar-interrupted, .progress-bar-interrupted::-webkit-progress-bar {\n",
       "        background: #F44336;\n",
       "    }\n",
       "</style>\n"
      ],
      "text/plain": [
       "<ipython.core.display.html object="">"
      ]
     },
     "metadata": {},
     "output_type": "display_data"
    },
    {
     "data": {
      "text/html": [
       "\n",
       "  \n",
       "    \n",
       "      \n",
       "      \n",
       "      \n",
       "      \n",
       "      \n",
       "    \n",
       "  \n",
       "  \n",
       "    \n",
       "      \n",
       "      \n",
       "      \n",
       "      \n",
       "      \n",
       "    \n",
       "    \n",
       "      \n",
       "      \n",
       "      \n",
       "      \n",
       "      \n",
       "    \n",
       "    \n",
       "      \n",
       "      \n",
       "      \n",
       "      \n",
       "      \n",
       "    \n",
       "    \n",
       "      \n",
       "      \n",
       "      \n",
       "      \n",
       "      \n",
       "    \n",
       "    \n",
       "      \n",
       "      \n",
       "      \n",
       "      \n",
       "      \n",
       "    \n",
       "    \n",
       "      \n",
       "      \n",
       "      \n",
       "      \n",
       "      \n",
       "    \n",
       "    \n",
       "      \n",
       "      \n",
       "      \n",
       "      \n",
       "      \n",
       "    \n",
       "    \n",
       "      \n",
       "      \n",
       "      \n",
       "      \n",
       "      \n",
       "    \n",
       "    \n",
       "      \n",
       "      \n",
       "      \n",
       "      \n",
       "      \n",
       "    \n",
       "    \n",
       "      \n",
       "      \n",
       "      \n",
       "      \n",
       "      \n",
       "    \n",
       "    \n",
       "      \n",
       "      \n",
       "      \n",
       "      \n",
       "      \n",
       "    \n",
       "    \n",
       "      \n",
       "      \n",
       "      \n",
       "      \n",
       "      \n",
       "    \n",
       "    \n",
       "      \n",
       "      \n",
       "      \n",
       "      \n",
       "      \n",
       "    \n",
       "    \n",
       "      \n",
       "      \n",
       "      \n",
       "      \n",
       "      \n",
       "    \n",
       "    \n",
       "      \n",
       "      \n",
       "      \n",
       "      \n",
       "      \n",
       "    \n",
       "    \n",
       "      \n",
       "      \n",
       "      \n",
       "      \n",
       "      \n",
       "    \n",
       "    \n",
       "      \n",
       "      \n",
       "      \n",
       "      \n",
       "      \n",
       "    \n",
       "    \n",
       "      \n",
       "      \n",
       "      \n",
       "      \n",
       "      \n",
       "    \n",
       "    \n",
       "      \n",
       "      \n",
       "      \n",
       "      \n",
       "      \n",
       "    \n",
       "    \n",
       "      \n",
       "      \n",
       "      \n",
       "      \n",
       "      \n",
       "    \n",
       "  \n",
       "<table border="\&quot;1\&quot;" class="\&quot;dataframe\&quot;"><thead><tr style="\&quot;text-align:" left;\"=""><th>epoch</th><th>train_loss</th><th>valid_loss</th><th>flat_l1</th><th>time</th></tr></thead><tbody><tr><td>0</td><td>24.465414</td><td>22.021284</td><td>3.929419</td><td>00:03</td></tr><tr><td>1</td><td>8.614778</td><td>13.489092</td><td>2.830986</td><td>00:02</td></tr><tr><td>2</td><td>3.541827</td><td>12.325796</td><td>2.740932</td><td>00:02</td></tr><tr><td>3</td><td>2.165506</td><td>11.081942</td><td>2.497374</td><td>00:03</td></tr><tr><td>4</td><td>1.801195</td><td>10.286647</td><td>2.359149</td><td>00:03</td></tr><tr><td>5</td><td>1.498327</td><td>9.729912</td><td>2.249918</td><td>00:03</td></tr><tr><td>6</td><td>1.323568</td><td>9.463367</td><td>2.217376</td><td>00:03</td></tr><tr><td>7</td><td>1.229849</td><td>9.070235</td><td>2.132249</td><td>00:03</td></tr><tr><td>8</td><td>1.136461</td><td>8.932068</td><td>2.111711</td><td>00:03</td></tr><tr><td>9</td><td>1.132741</td><td>8.688914</td><td>2.065679</td><td>00:03</td></tr><tr><td>10</td><td>1.074484</td><td>8.604545</td><td>2.057260</td><td>00:03</td></tr><tr><td>11</td><td>1.051031</td><td>8.435981</td><td>2.017300</td><td>00:03</td></tr><tr><td>12</td><td>0.988740</td><td>8.391236</td><td>2.017747</td><td>00:03</td></tr><tr><td>13</td><td>1.023245</td><td>8.254854</td><td>1.984883</td><td>00:03</td></tr><tr><td>14</td><td>0.953723</td><td>8.191985</td><td>1.970956</td><td>00:03</td></tr><tr><td>15</td><td>0.829382</td><td>8.052102</td><td>1.911135</td><td>00:03</td></tr><tr><td>16</td><td>0.549127</td><td>7.947558</td><td>1.839917</td><td>00:03</td></tr><tr><td>17</td><td>0.273649</td><td>7.902320</td><td>1.766260</td><td>00:03</td></tr><tr><td>18</td><td>0.091975</td><td>7.894942</td><td>1.716167</td><td>00:03</td></tr><tr><td>19</td><td>0.030225</td><td>7.895112</td><td>1.703949</td><td>00:03</td></tr></tbody></table>"
      ],
      "text/plain": [
       "<ipython.core.display.html object="">"
      ]
     },
     "metadata": {},
     "output_type": "display_data"
    }
   ],
   "source": [
    "learn.fit_one_cycle(20,3e-2,div=1,pct_start=0.7)"
   ]
  },
  {
   "cell_type": "code",
   "execution_count": null,
   "metadata": {},
   "outputs": [],
   "source": []
  },
  {
   "cell_type": "code",
   "execution_count": null,
   "metadata": {},
   "outputs": [],
   "source": []
  },
  {
   "cell_type": "code",
   "execution_count": 35,
   "metadata": {},
   "outputs": [],
   "source": [
    "learn = fc.collab_learner(dls,opt_func=fc.ranger,\n",
    "                          use_nn=True,\n",
    "                          emb_szs={'uid':10,'anime_uid':8},\n",
    "                          layers=[256,128],\n",
    "                          metrics=flat_l1)"
   ]
  },
  {
   "cell_type": "code",
   "execution_count": 37,
   "metadata": {},
   "outputs": [
    {
     "data": {
      "text/plain": [
       "EmbeddingNN(\n",
       "  (embeds): ModuleList(\n",
       "    (0): Embedding(114166, 10)\n",
       "    (1): Embedding(7693, 8)\n",
       "  )\n",
       "  (emb_drop): Dropout(p=0.0, inplace=False)\n",
       "  (bn_cont): BatchNorm1d(0, eps=1e-05, momentum=0.1, affine=True, track_running_stats=True)\n",
       "  (layers): Sequential(\n",
       "    (0): LinBnDrop(\n",
       "      (0): Linear(in_features=18, out_features=256, bias=False)\n",
       "      (1): ReLU(inplace=True)\n",
       "      (2): BatchNorm1d(256, eps=1e-05, momentum=0.1, affine=True, track_running_stats=True)\n",
       "    )\n",
       "    (1): LinBnDrop(\n",
       "      (0): Linear(in_features=256, out_features=128, bias=False)\n",
       "      (1): ReLU(inplace=True)\n",
       "      (2): BatchNorm1d(128, eps=1e-05, momentum=0.1, affine=True, track_running_stats=True)\n",
       "    )\n",
       "    (2): LinBnDrop(\n",
       "      (0): Linear(in_features=128, out_features=1, bias=True)\n",
       "    )\n",
       "  )\n",
       ")"
      ]
     },
     "execution_count": 37,
     "metadata": {},
     "output_type": "execute_result"
    }
   ],
   "source": [
    "learn.model"
   ]
  },
  {
   "cell_type": "code",
   "execution_count": 36,
   "metadata": {},
   "outputs": [],
   "source": [
    "M = learn.model.layers"
   ]
  },
  {
   "cell_type": "code",
   "execution_count": null,
   "metadata": {},
   "outputs": [],
   "source": [
    "M[0][1] = nn.CELU()"
   ]
  },
  {
   "cell_type": "code",
   "execution_count": null,
   "metadata": {},
   "outputs": [],
   "source": [
    "M"
   ]
  },
  {
   "cell_type": "code",
   "execution_count": null,
   "metadata": {},
   "outputs": [],
   "source": [
    "learn.summary()"
   ]
  },
  {
   "cell_type": "code",
   "execution_count": null,
   "metadata": {},
   "outputs": [],
   "source": [
    "learn.lr_find()"
   ]
  },
  {
   "cell_type": "code",
   "execution_count": 38,
   "metadata": {},
   "outputs": [
    {
     "data": {
      "text/html": [
       "\n",
       "<style>\n",
       "    /* Turns off some styling */\n",
       "    progress {\n",
       "        /* gets rid of default border in Firefox and Opera. */\n",
       "        border: none;\n",
       "        /* Needs to be in here for Safari polyfill so background images work as expected. */\n",
       "        background-size: auto;\n",
       "    }\n",
       "    progress:not([value]), progress:not([value])::-webkit-progress-bar {\n",
       "        background: repeating-linear-gradient(45deg, #7e7e7e, #7e7e7e 10px, #5c5c5c 10px, #5c5c5c 20px);\n",
       "    }\n",
       "    .progress-bar-interrupted, .progress-bar-interrupted::-webkit-progress-bar {\n",
       "        background: #F44336;\n",
       "    }\n",
       "</style>\n"
      ],
      "text/plain": [
       "<ipython.core.display.html object="">"
      ]
     },
     "metadata": {},
     "output_type": "display_data"
    },
    {
     "data": {
      "text/html": [
       "\n",
       "  \n",
       "    \n",
       "      \n",
       "      \n",
       "      \n",
       "      \n",
       "      \n",
       "    \n",
       "  \n",
       "  \n",
       "    \n",
       "      \n",
       "      \n",
       "      \n",
       "      \n",
       "      \n",
       "    \n",
       "    \n",
       "      \n",
       "      \n",
       "      \n",
       "      \n",
       "      \n",
       "    \n",
       "    \n",
       "      \n",
       "      \n",
       "      \n",
       "      \n",
       "      \n",
       "    \n",
       "    \n",
       "      \n",
       "      \n",
       "      \n",
       "      \n",
       "      \n",
       "    \n",
       "    \n",
       "      \n",
       "      \n",
       "      \n",
       "      \n",
       "      \n",
       "    \n",
       "    \n",
       "      \n",
       "      \n",
       "      \n",
       "      \n",
       "      \n",
       "    \n",
       "    \n",
       "      \n",
       "      \n",
       "      \n",
       "      \n",
       "      \n",
       "    \n",
       "    \n",
       "      \n",
       "      \n",
       "      \n",
       "      \n",
       "      \n",
       "    \n",
       "    \n",
       "      \n",
       "      \n",
       "      \n",
       "      \n",
       "      \n",
       "    \n",
       "    \n",
       "      \n",
       "      \n",
       "      \n",
       "      \n",
       "      \n",
       "    \n",
       "    \n",
       "      \n",
       "      \n",
       "      \n",
       "      \n",
       "      \n",
       "    \n",
       "    \n",
       "      \n",
       "      \n",
       "      \n",
       "      \n",
       "      \n",
       "    \n",
       "    \n",
       "      \n",
       "      \n",
       "      \n",
       "      \n",
       "      \n",
       "    \n",
       "    \n",
       "      \n",
       "      \n",
       "      \n",
       "      \n",
       "      \n",
       "    \n",
       "    \n",
       "      \n",
       "      \n",
       "      \n",
       "      \n",
       "      \n",
       "    \n",
       "    \n",
       "      \n",
       "      \n",
       "      \n",
       "      \n",
       "      \n",
       "    \n",
       "    \n",
       "      \n",
       "      \n",
       "      \n",
       "      \n",
       "      \n",
       "    \n",
       "    \n",
       "      \n",
       "      \n",
       "      \n",
       "      \n",
       "      \n",
       "    \n",
       "    \n",
       "      \n",
       "      \n",
       "      \n",
       "      \n",
       "      \n",
       "    \n",
       "    \n",
       "      \n",
       "      \n",
       "      \n",
       "      \n",
       "      \n",
       "    \n",
       "  \n",
       "<table border="\&quot;1\&quot;" class="\&quot;dataframe\&quot;"><thead><tr style="\&quot;text-align:" left;\"=""><th>epoch</th><th>train_loss</th><th>valid_loss</th><th>flat_l1</th><th>time</th></tr></thead><tbody><tr><td>0</td><td>3.392234</td><td>3.125750</td><td>1.313005</td><td>00:04</td></tr><tr><td>1</td><td>1.378902</td><td>2.777578</td><td>1.158287</td><td>00:04</td></tr><tr><td>2</td><td>0.706769</td><td>2.610637</td><td>1.126877</td><td>00:04</td></tr><tr><td>3</td><td>0.496107</td><td>2.532900</td><td>1.090466</td><td>00:04</td></tr><tr><td>4</td><td>0.356349</td><td>2.605554</td><td>1.064654</td><td>00:04</td></tr><tr><td>5</td><td>0.322108</td><td>2.760687</td><td>1.088373</td><td>00:04</td></tr><tr><td>6</td><td>0.281525</td><td>2.795734</td><td>1.073318</td><td>00:04</td></tr><tr><td>7</td><td>0.269501</td><td>2.737880</td><td>1.031765</td><td>00:04</td></tr><tr><td>8</td><td>0.257886</td><td>2.903734</td><td>1.045260</td><td>00:04</td></tr><tr><td>9</td><td>0.282611</td><td>3.017076</td><td>1.067672</td><td>00:04</td></tr><tr><td>10</td><td>0.281543</td><td>3.008666</td><td>1.056409</td><td>00:04</td></tr><tr><td>11</td><td>0.283824</td><td>3.256297</td><td>1.088145</td><td>00:04</td></tr><tr><td>12</td><td>0.311137</td><td>3.402723</td><td>1.111636</td><td>00:04</td></tr><tr><td>13</td><td>0.326288</td><td>3.337631</td><td>1.088088</td><td>00:04</td></tr><tr><td>14</td><td>0.320294</td><td>3.483928</td><td>1.108186</td><td>00:04</td></tr><tr><td>15</td><td>0.291467</td><td>3.141201</td><td>1.033469</td><td>00:04</td></tr><tr><td>16</td><td>0.206067</td><td>3.353184</td><td>1.031157</td><td>00:04</td></tr><tr><td>17</td><td>0.108402</td><td>3.137150</td><td>0.982077</td><td>00:04</td></tr><tr><td>18</td><td>0.057767</td><td>3.243070</td><td>0.984383</td><td>00:04</td></tr><tr><td>19</td><td>0.038918</td><td>3.288831</td><td>0.985651</td><td>00:04</td></tr></tbody></table>"
      ],
      "text/plain": [
       "<ipython.core.display.html object="">"
      ]
     },
     "metadata": {},
     "output_type": "display_data"
    }
   ],
   "source": [
    "learn.fit_one_cycle(20,3e-2,div=1,pct_start=0.7)"
   ]
  },
  {
   "cell_type": "code",
   "execution_count": null,
   "metadata": {},
   "outputs": [],
   "source": [
    "learn = 
fc.collab_learner(dls,opt_func=fc.ranger,use_nn=True,emb_szs={'uid':32,'anime_uid':32},layers=[1024,256],metrics=flat_l1)"

   ]
  },
  {
   "cell_type": "code",
   "execution_count": null,
   "metadata": {},
   "outputs": [],
   "source": [
    "learn.fit_one_cycle(20,3e-2,div=1,pct_start=0.7)"
   ]
  },
  {
   "cell_type": "markdown",
   "metadata": {},
   "source": [
    "## ¿Cómo uso todo lo demás?\n",
    "\n",
    "Pues simplemente hay que verlo como algo en tablas (tabular). 
Separar los géneros (drama, fantasía, etc.), etc. en categorías.\n",
    "\n",
    "¿Pero qué creen? ¡Será su tarea!"
   ]
  },
  {
   "cell_type": "markdown",
   "metadata": {},
   "source": [
    "## ¿Cómo pongo ahora un nuevo usuario?\n",
    "\n",
    "Muy buena pregunta! Dado un nuevo usuario y sus calificaciones, 
tendremos que encontrar su embedding!\n",
    "\n",
    "Es decir, hacemos freeze al modelo y solo modificamos el embedding 
del usuario. Vamos a hacerlo con el modelo inicial, porque es 
ligeramente más sencillo, porque podemos correr el modelo \"a mano\" sin
 problema.\n",
    "\n",
    "Para eso ponemos un embedding aleatorio y tenemos que congelar todo
 menos ese usuario y **minimizar** su embedding. Eso lo haremos 
directamente en pytorch."
   ]
  },
  {
   "cell_type": "code",
   "execution_count": 10,
   "metadata": {},
   "outputs": [],
   "source": [
    "learn = 
fc.collab_learner(dls,opt_func=fc.ranger,use_nn=True,emb_szs={'uid':8,'anime_uid':8},layers=[128],metrics=flat_l1)"

   ]
  },
  {
   "cell_type": "code",
   "execution_count": 11,
   "metadata": {},
   "outputs": [
    {
     "data": {
      "text/html": [
       "\n",
       "  \n",
       "    \n",
       "      \n",
       "      \n",
       "      \n",
       "      \n",
       "      \n",
       "    \n",
       "  \n",
       "  \n",
       "    \n",
       "      \n",
       "      \n",
       "      \n",
       "      \n",
       "      \n",
       "    \n",
       "    \n",
       "      \n",
       "      \n",
       "      \n",
       "      \n",
       "      \n",
       "    \n",
       "    \n",
       "      \n",
       "      \n",
       "      \n",
       "      \n",
       "      \n",
       "    \n",
       "    \n",
       "      \n",
       "      \n",
       "      \n",
       "      \n",
       "      \n",
       "    \n",
       "    \n",
       "      \n",
       "      \n",
       "      \n",
       "      \n",
       "      \n",
       "    \n",
       "    \n",
       "      \n",
       "      \n",
       "      \n",
       "      \n",
       "      \n",
       "    \n",
       "    \n",
       "      \n",
       "      \n",
       "      \n",
       "      \n",
       "      \n",
       "    \n",
       "    \n",
       "      \n",
       "      \n",
       "      \n",
       "      \n",
       "      \n",
       "    \n",
       "    \n",
       "      \n",
       "      \n",
       "      \n",
       "      \n",
       "      \n",
       "    \n",
       "    \n",
       "      \n",
       "      \n",
       "      \n",
       "      \n",
       "      \n",
       "    \n",
       "    \n",
       "      \n",
       "      \n",
       "      \n",
       "      \n",
       "      \n",
       "    \n",
       "    \n",
       "      \n",
       "      \n",
       "      \n",
       "      \n",
       "      \n",
       "    \n",
       "    \n",
       "      \n",
       "      \n",
       "      \n",
       "      \n",
       "      \n",
       "    \n",
       "    \n",
       "      \n",
       "      \n",
       "      \n",
       "      \n",
       "      \n",
       "    \n",
       "    \n",
       "      \n",
       "      \n",
       "      \n",
       "      \n",
       "      \n",
       "    \n",
       "    \n",
       "      \n",
       "      \n",
       "      \n",
       "      \n",
       "      \n",
       "    \n",
       "    \n",
       "      \n",
       "      \n",
       "      \n",
       "      \n",
       "      \n",
       "    \n",
       "    \n",
       "      \n",
       "      \n",
       "      \n",
       "      \n",
       "      \n",
       "    \n",
       "    \n",
       "      \n",
       "      \n",
       "      \n",
       "      \n",
       "      \n",
       "    \n",
       "    \n",
       "      \n",
       "      \n",
       "      \n",
       "      \n",
       "      \n",
       "    \n",
       "  \n",
       "<table border="\&quot;1\&quot;" class="\&quot;dataframe\&quot;"><thead><tr style="\&quot;text-align:" left;\"=""><th>epoch</th><th>train_loss</th><th>valid_loss</th><th>flat_l1</th><th>time</th></tr></thead><tbody><tr><td>0</td><td>3.461914</td><td>3.258710</td><td>1.338737</td><td>00:03</td></tr><tr><td>1</td><td>1.734107</td><td>2.736461</td><td>1.196594</td><td>00:03</td></tr><tr><td>2</td><td>0.908430</td><td>2.555640</td><td>1.105978</td><td>00:03</td></tr><tr><td>3</td><td>0.621015</td><td>2.467355</td><td>1.105794</td><td>00:03</td></tr><tr><td>4</td><td>0.492332</td><td>2.399428</td><td>1.062741</td><td>00:03</td></tr><tr><td>5</td><td>0.425545</td><td>2.393105</td><td>1.061498</td><td>00:03</td></tr><tr><td>6</td><td>0.386361</td><td>2.383522</td><td>1.044964</td><td>00:03</td></tr><tr><td>7</td><td>0.354026</td><td>2.373921</td><td>1.031414</td><td>00:03</td></tr><tr><td>8</td><td>0.345205</td><td>2.352205</td><td>1.033070</td><td>00:03</td></tr><tr><td>9</td><td>0.322463</td><td>2.344815</td><td>1.022385</td><td>00:03</td></tr><tr><td>10</td><td>0.306667</td><td>2.335761</td><td>1.019458</td><td>00:02</td></tr><tr><td>11</td><td>0.298859</td><td>2.327026</td><td>1.016958</td><td>00:02</td></tr><tr><td>12</td><td>0.304061</td><td>2.331337</td><td>1.009560</td><td>00:02</td></tr><tr><td>13</td><td>0.282218</td><td>2.327109</td><td>1.005666</td><td>00:03</td></tr><tr><td>14</td><td>0.283925</td><td>2.316140</td><td>1.005966</td><td>00:02</td></tr><tr><td>15</td><td>0.258776</td><td>2.275948</td><td>0.967248</td><td>00:03</td></tr><tr><td>16</td><td>0.160303</td><td>2.244424</td><td>0.936819</td><td>00:03</td></tr><tr><td>17</td><td>0.088843</td><td>2.218788</td><td>0.888766</td><td>00:03</td></tr><tr><td>18</td><td>0.052686</td><td>2.207544</td><td>0.861939</td><td>00:03</td></tr><tr><td>19</td><td>0.030635</td><td>2.208250</td><td>0.862013</td><td>00:03</td></tr></tbody></table>"
      ],
      "text/plain": [
       "<ipython.core.display.html object="">"
      ]
     },
     "metadata": {},
     "output_type": "display_data"
    }
   ],
   "source": [
    "learn.fit_one_cycle(20,3e-2,div=1,pct_start=0.7)"
   ]
  },
  {
   "cell_type": "code",
   "execution_count": 12,
   "metadata": {},
   "outputs": [],
   "source": [
    "m = learn.model.eval()"
   ]
  },
  {
   "cell_type": "code",
   "execution_count": 13,
   "metadata": {},
   "outputs": [],
   "source": [
    "m = m.cpu()"
   ]
  },
  {
   "cell_type": "code",
   "execution_count": 14,
   "metadata": {},
   "outputs": [],
   "source": [
    "for p in m.parameters():\n",
    "    p.requires_grad_(False)"
   ]
  },
  {
   "cell_type": "code",
   "execution_count": 15,
   "metadata": {},
   "outputs": [
    {
     "data": {
      "text/plain": [
       "EmbeddingNN(\n",
       "  (embeds): ModuleList(\n",
       "    (0): Embedding(114132, 8)\n",
       "    (1): Embedding(7676, 8)\n",
       "  )\n",
       "  (emb_drop): Dropout(p=0.0, inplace=False)\n",
       "  (bn_cont): BatchNorm1d(0, eps=1e-05, momentum=0.1, affine=True, track_running_stats=True)\n",
       "  (layers): Sequential(\n",
       "    (0): LinBnDrop(\n",
       "      (0): Linear(in_features=16, out_features=128, bias=False)\n",
       "      (1): ReLU(inplace=True)\n",
       "      (2): BatchNorm1d(128, eps=1e-05, momentum=0.1, affine=True, track_running_stats=True)\n",
       "    )\n",
       "    (1): LinBnDrop(\n",
       "      (0): Linear(in_features=128, out_features=1, bias=True)\n",
       "    )\n",
       "  )\n",
       ")"
      ]
     },
     "execution_count": 15,
     "metadata": {},
     "output_type": "execute_result"
    }
   ],
   "source": [
    "m"
   ]
  },
  {
   "cell_type": "markdown",
   "metadata": {},
   "source": [
    "## Nuestro usuario: Vamos a tomar cosas aleatorias, pero en realidad no debería hacerse esto"
   ]
  },
  {
   "cell_type": "code",
   "execution_count": null,
   "metadata": {},
   "outputs": [],
   "source": [
    "dls.train_ds.classes['anime_uid']"
   ]
  },
  {
   "cell_type": "code",
   "execution_count": 16,
   "metadata": {},
   "outputs": [],
   "source": [
    "import random"
   ]
  },
  {
   "cell_type": "code",
   "execution_count": 17,
   "metadata": {},
   "outputs": [],
   "source": [
    "animes_vistos = random.sample(list(dls.train_ds.classes['anime_uid']),30)"
   ]
  },
  {
   "cell_type": "code",
   "execution_count": null,
   "metadata": {},
   "outputs": [],
   "source": [
    "animes_vistos"
   ]
  },
  {
   "cell_type": "code",
   "execution_count": 18,
   "metadata": {},
   "outputs": [],
   "source": [
    "calificaciones = torch.tensor([random.randint(0,10) for _ in animes_vistos]).float()"
   ]
  },
  {
   "cell_type": "code",
   "execution_count": null,
   "metadata": {},
   "outputs": [],
   "source": [
    "calificaciones"
   ]
  },
  {
   "cell_type": "markdown",
   "metadata": {},
   "source": [
    "# Embeddings"
   ]
  },
  {
   "cell_type": "code",
   "execution_count": 19,
   "metadata": {},
   "outputs": [],
   "source": [
    "a2idx = {a:i for i,a in enumerate(dls.train_ds.classes['anime_uid'])}"
   ]
  },
  {
   "cell_type": "code",
   "execution_count": null,
   "metadata": {},
   "outputs": [],
   "source": [
    "a2idx"
   ]
  },
  {
   "cell_type": "code",
   "execution_count": 20,
   "metadata": {},
   "outputs": [],
   "source": [
    "animes_vistos = torch.tensor([a2idx[a] for a in animes_vistos])"
   ]
  },
  {
   "cell_type": "code",
   "execution_count": null,
   "metadata": {},
   "outputs": [],
   "source": [
    "animes_vistos"
   ]
  },
  {
   "cell_type": "code",
   "execution_count": 21,
   "metadata": {},
   "outputs": [
    {
     "data": {
      "text/plain": [
       "EmbeddingNN(\n",
       "  (embeds): ModuleList(\n",
       "    (0): Embedding(114132, 8)\n",
       "    (1): Embedding(7676, 8)\n",
       "  )\n",
       "  (emb_drop): Dropout(p=0.0, inplace=False)\n",
       "  (bn_cont): BatchNorm1d(0, eps=1e-05, momentum=0.1, affine=True, track_running_stats=True)\n",
       "  (layers): Sequential(\n",
       "    (0): LinBnDrop(\n",
       "      (0): Linear(in_features=16, out_features=128, bias=False)\n",
       "      (1): ReLU(inplace=True)\n",
       "      (2): BatchNorm1d(128, eps=1e-05, momentum=0.1, affine=True, track_running_stats=True)\n",
       "    )\n",
       "    (1): LinBnDrop(\n",
       "      (0): Linear(in_features=128, out_features=1, bias=True)\n",
       "    )\n",
       "  )\n",
       ")"
      ]
     },
     "execution_count": 21,
     "metadata": {},
     "output_type": "execute_result"
    }
   ],
   "source": [
    "m"
   ]
  },
  {
   "cell_type": "code",
   "execution_count": 23,
   "metadata": {},
   "outputs": [
    {
     "data": {
      "text/plain": [
       "Embedding(7676, 8)"
      ]
     },
     "execution_count": 23,
     "metadata": {},
     "output_type": "execute_result"
    }
   ],
   "source": []
  },
  {
   "cell_type": "code",
   "execution_count": 24,
   "metadata": {},
   "outputs": [],
   "source": [
    "animes_embedding = m.embeds[1](animes_vistos)"
   ]
  },
  {
   "cell_type": "code",
   "execution_count": 26,
   "metadata": {},
   "outputs": [],
   "source": [
    "animes_embedding;"
   ]
  },
  {
   "cell_type": "code",
   "execution_count": 27,
   "metadata": {},
   "outputs": [
    {
     "data": {
      "text/plain": [
       "torch.Size([30, 8])"
      ]
     },
     "execution_count": 27,
     "metadata": {},
     "output_type": "execute_result"
    }
   ],
   "source": [
    "animes_embedding.shape"
   ]
  },
  {
   "cell_type": "code",
   "execution_count": 29,
   "metadata": {},
   "outputs": [],
   "source": [
    "n_factors = animes_embedding.shape[1]"
   ]
  },
  {
   "cell_type": "code",
   "execution_count": 32,
   "metadata": {},
   "outputs": [],
   "source": [
    "new_user_embedding = torch.zeros((n_factors,),requires_grad=True)"
   ]
  },
  {
   "cell_type": "code",
   "execution_count": 38,
   "metadata": {},
   "outputs": [],
   "source": [
    "x = torch.cat([new_user_embedding.repeat((30,1)),animes_embedding],dim=1)"
   ]
  },
  {
   "cell_type": "code",
   "execution_count": null,
   "metadata": {},
   "outputs": [],
   "source": [
    "new_user_embedding"
   ]
  },
  {
   "cell_type": "code",
   "execution_count": null,
   "metadata": {},
   "outputs": [],
   "source": [
    "new_user_bias = torch.zeros((1,),requires_grad=True)"
   ]
  },
  {
   "cell_type": "code",
   "execution_count": null,
   "metadata": {},
   "outputs": [],
   "source": [
    "anime_bias.shape"
   ]
  },
  {
   "cell_type": "code",
   "execution_count": null,
   "metadata": {},
   "outputs": [],
   "source": [
    "animes_embedding.shape"
   ]
  },
  {
   "cell_type": "code",
   "execution_count": null,
   "metadata": {},
   "outputs": [],
   "source": [
    "new_user_embedding.shape"
   ]
  },
  {
   "cell_type": "code",
   "execution_count": null,
   "metadata": {},
   "outputs": [],
   "source": []
  },
  {
   "cell_type": "code",
   "execution_count": null,
   "metadata": {},
   "outputs": [],
   "source": [
    "(animes_embedding*new_user_embedding[None]).sum(1)+anime_bias+new_user_bias"
   ]
  },
  {
   "cell_type": "markdown",
   "metadata": {},
   "source": [
    "# Pérdida\n",
    "\n"
   ]
  },
  {
   "cell_type": "code",
   "execution_count": 43,
   "metadata": {},
   "outputs": [],
   "source": [
    "from fastprogress.fastprogress import progress_bar"
   ]
  },
  {
   "cell_type": "code",
   "execution_count": 54,
   "metadata": {},
   "outputs": [],
   "source": [
    "def get_user_predictions():\n",
    "    x = torch.cat([new_user_embedding.repeat((30,1)),animes_embedding],dim=1)\n",
    "    return m.layers(x).squeeze()"
   ]
  },
  {
   "cell_type": "code",
   "execution_count": 56,
   "metadata": {},
   "outputs": [],
   "source": [
    "def loss_func():\n",
    "    yp = get_user_predictions()\n",
    "    y = calificaciones\n",
    "    return F.mse_loss(yp,y)"
   ]
  },
  {
   "cell_type": "code",
   "execution_count": 57,
   "metadata": {},
   "outputs": [],
   "source": [
    "optimizer = torch.optim.Adam([new_user_embedding],lr=1e-3)"
   ]
  },
  {
   "cell_type": "code",
   "execution_count": 58,
   "metadata": {},
   "outputs": [
    {
     "data": {
      "text/html": [
       "\n",
       "    <div>\n",
       "        <style>\n",
       "            /* Turns off some styling */\n",
       "            progress {\n",
       "                /* gets rid of default border in Firefox and Opera. */\n",
       "                border: none;\n",
       "                /* Needs to be in here for Safari polyfill so background images work as expected. */\n",
       "                background-size: auto;\n",
       "            }\n",
       "            .progress-bar-interrupted, .progress-bar-interrupted::-webkit-progress-bar {\n",
       "                background: #F44336;\n",
       "            }\n",
       "        </style>\n",
       "      <progress value="100000" class="" max="100000" style="width:300px; height:20px; vertical-align: middle;"></progress>\n",
       "      100.00% [100000/100000 01:09&lt;00:00 loss: 7.6447 and L1 = 2.4629368782043457]\n",
       "    </div>\n",
       "    "
      ],
      "text/plain": [
       "<ipython.core.display.html object="">"
      ]
     },
     "metadata": {},
     "output_type": "display_data"
    }
   ],
   "source": [
    "pb = progress_bar(range(100000))\n",
    "for _ in pb:\n",
    "    optimizer.zero_grad()\n",
    "    loss = loss_func()\n",
    "    yp = get_user_predictions()\n",
    "    pb.comment = f\"loss: {loss.item():.4f} and L1 = {F.l1_loss(yp,calificaciones)}\"\n",
    "    loss.backward()\n",
    "    optimizer.step()"
   ]
  },
  {
   "cell_type": "code",
   "execution_count": null,
   "metadata": {},
   "outputs": [],
   "source": []
  },
  {
   "cell_type": "code",
   "execution_count": null,
   "metadata": {},
   "outputs": [],
   "source": [
    "new_user_bias"
   ]
  },
  {
   "cell_type": "code",
   "execution_count": null,
   "metadata": {},
   "outputs": [],
   "source": [
    "new_user_embedding"
   ]
  },
  {
   "cell_type": "code",
   "execution_count": null,
   "metadata": {},
   "outputs": [],
   "source": [
    "get_user_predictions()"
   ]
  },
  {
   "cell_type": "code",
   "execution_count": null,
   "metadata": {},
   "outputs": [],
   "source": [
    "calificaciones"
   ]
  },
  {
   "cell_type": "code",
   "execution_count": null,
   "metadata": {},
   "outputs": [],
   "source": [
    "(get_user_predictions() - calificaciones)#.max()"
   ]
  },
  {
   "cell_type": "code",
   "execution_count": null,
   "metadata": {},
   "outputs": [],
   "source": []
  },
  {
   "cell_type": "code",
   "execution_count": null,
   "metadata": {},
   "outputs": [],
   "source": []
  },
  {
   "cell_type": "code",
   "execution_count": null,
   "metadata": {},
   "outputs": [],
   "source": []
  }
 ],
 "metadata": {
  "kernelspec": {
   "display_name": "Python 3 (ipykernel)",
   "language": "python",
   "name": "python3"
  },
  "language_info": {
   "codemirror_mode": {
    "name": "ipython",
    "version": 3
   },
   "file_extension": ".py",
   "mimetype": "text/x-python",
   "name": "python",
   "nbconvert_exporter": "python",
   "pygments_lexer": "ipython3",
   "version": "3.9.12"
  }
 },
 "nbformat": 4,
 "nbformat_minor": 4
}
</ipython.core.display.html></ipython.core.display.html></ipython.core.display.html></ipython.core.display.html></ipython.core.display.html></ipython.core.display.html></ipython.core.display.html></ipython.core.display.html></body></html>